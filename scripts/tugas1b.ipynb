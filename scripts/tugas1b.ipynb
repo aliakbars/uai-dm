{
 "cells": [
  {
   "cell_type": "markdown",
   "metadata": {},
   "source": [
    "# Data Mining\n",
    "\n",
    "## Tugas 1: Analisis Data dan Visualisasi\n",
    "\n",
    "### Mekanisme\n",
    "\n",
    "Anda hanya diwajibkan untuk mengumpulkan file ini saja ke uploader yang disediakan di http://elearning2.uai.ac.id/. Ganti nama file ini saat pengumpulan menjadi **tugas1_NIM.ipynb**.\n",
    "\n",
    "**Keterlambatan**: Pengumpulan tugas yang melebihi tenggat yang telah ditentukan tidak akan diterima. Keterlambatan akan berakibat pada nilai nol untuk tugas ini.\n",
    "\n",
    "**Kolaborasi**: Anda diperbolehkan untuk berdiskusi dengan teman Anda, tetapi *dilarang keras* menyalin kode maupun tulisan dari teman Anda.\n",
    "\n",
    "### Petunjuk\n",
    "\n",
    "Terdapat enam *packages* yang Anda akan gunakan dalam mengerjakan tugas ini, yaitu:\n",
    "\n",
    "- matplotlib\n",
    "- numpy\n",
    "- pandas\n",
    "- scipy\n",
    "- seaborn\n",
    "- scikit-learn\n",
    "\n",
    "Anda diperbolehkan (jika dirasa perlu) untuk mengimpor modul tambahan untuk tugas ini, kecuali dijelaskan sebaliknya. Namun, seharusnya modul yang tersedia sudah cukup untuk memenuhi kebutuhan Anda.\n",
    "\n",
    "Pastikan jawaban Anda singkat, padat, dan jelas. Mayoritas pertanyaan yang diberikan dapat dijawab dalam 3-4 kalimat saja."
   ]
  },
  {
   "cell_type": "markdown",
   "metadata": {},
   "source": [
    "**NIM: **\n",
    "\n",
    "**Nilai akhir: XX/100**"
   ]
  },
  {
   "cell_type": "markdown",
   "metadata": {},
   "source": [
    "### Import"
   ]
  },
  {
   "cell_type": "code",
   "execution_count": null,
   "metadata": {
    "collapsed": true
   },
   "outputs": [],
   "source": [
    "from scipy.stats import norm\n",
    "import matplotlib.pyplot as plt\n",
    "import numpy as np\n",
    "import pandas as pd\n",
    "import seaborn as sns\n",
    "%matplotlib inline"
   ]
  },
  {
   "cell_type": "code",
   "execution_count": null,
   "metadata": {
    "collapsed": true
   },
   "outputs": [],
   "source": [
    "from sklearn.metrics.pairwise import cosine_similarity\n",
    "from sklearn.preprocessing import MultiLabelBinarizer"
   ]
  },
  {
   "cell_type": "code",
   "execution_count": null,
   "metadata": {
    "collapsed": true
   },
   "outputs": [],
   "source": [
    "df = pd.read_csv('../dataset/movie_metadata.csv')"
   ]
  },
  {
   "cell_type": "markdown",
   "metadata": {},
   "source": [
    "### Deskripsi Dataset"
   ]
  },
  {
   "cell_type": "markdown",
   "metadata": {},
   "source": [
    "Dataset yang digunakan dalam tugas ini adalah IMDB 5000 movie dataset. Dalam tugas ini, Anda akan mengeksplorasi berbagai hubungan atribut dari suatu film. Secara umum, kita ingin melihat apa yang menyebabkan sebuah film menjadi sukses. Beberapa pertanyaan yang muncul dari situ antara lain:\n",
    "\n",
    "1. Film apa sebetulnya yang sukses di pasaran?\n",
    "2. Genre apa yang mendominasi pasar?\n",
    "3. Siapa sutradara film yang paling sukses?\n",
    "\n",
    "Pertanyaan semacam itu yang akan Anda jawab melalui eksplorasi dalam tugas ini.\n",
    "\n",
    "Sumber: https://www.kaggle.com/deepmatrix/imdb-5000-movie-dataset\n",
    "\n",
    "*Catatan: Data tersebut sudah tidak dapat diakses lagi dari link yang diberikan karena ada masalah dengan pihak IMDB. Jadi, silakan gunakan data yang tersedia di repositori kuliah ini di GitHub.*"
   ]
  },
  {
   "cell_type": "markdown",
   "metadata": {},
   "source": [
    "## 1. Eksplorasi Awal Data (45 poin)\n",
    "\n",
    "Dalam bagian ini, Anda diminta untuk memberikan *summary statistics* dan beberapa visualisasi awal dari data yang ada. Anda juga akan melakukan beberapa transformasi terhadap data yang diberikan untuk membantu memahami data tersebut dengan lebih baik."
   ]
  },
  {
   "cell_type": "markdown",
   "metadata": {},
   "source": [
    "### Soal 1.1 (2 poin)\n",
    "\n",
    "Laporkan deskripsi data dan tunjukkan dimensi dari data yang digunakan!"
   ]
  },
  {
   "cell_type": "code",
   "execution_count": null,
   "metadata": {},
   "outputs": [],
   "source": []
  },
  {
   "cell_type": "code",
   "execution_count": null,
   "metadata": {},
   "outputs": [],
   "source": []
  },
  {
   "cell_type": "markdown",
   "metadata": {},
   "source": [
    "### Soal 1.2 (2 poin)\n",
    "\n",
    "Dalam dataset ini terdapat data duplikat. Buanglah data dengan `movie_title`, `title_year`, dan `director_name` yang sama. Anda dapat mengambil baris yang terakhir dan menganggap itu data yang paling benar dari film tersebut."
   ]
  },
  {
   "cell_type": "code",
   "execution_count": null,
   "metadata": {},
   "outputs": [],
   "source": []
  },
  {
   "cell_type": "markdown",
   "metadata": {},
   "source": [
    "### Soal 1.3 (2 poin)\n",
    "\n",
    "Periksa jumlah nilai yang null pada masing-masing atribut!"
   ]
  },
  {
   "cell_type": "code",
   "execution_count": null,
   "metadata": {},
   "outputs": [],
   "source": []
  },
  {
   "cell_type": "markdown",
   "metadata": {},
   "source": [
    "### Soal 1.4.a (4 poin)\n",
    "\n",
    "Anda mungkin akan menemukan bahwa masih banyak atribut dengan nilai yang hilang. Kita akan mencoba melihat pengaruh dari pengisian nilai yang hilang tersebut dengan median. Sebagai awalan, gambarkan histogram dari `gross` dan `budget` dengan menggunaakn `sns.distplot()`. Apa yang dapat Anda lihat dari histogram ini?\n",
    "\n",
    "*Catatan: Abaikan nilai kosong saat menggambar histogram.*"
   ]
  },
  {
   "cell_type": "code",
   "execution_count": null,
   "metadata": {},
   "outputs": [],
   "source": []
  },
  {
   "cell_type": "markdown",
   "metadata": {},
   "source": [
    "*Jawaban Anda di sini*"
   ]
  },
  {
   "cell_type": "markdown",
   "metadata": {},
   "source": [
    "### Soal 1.4.b (2 poin)\n",
    "\n",
    "Gambarkan kembali kedua histogram tersebut, tapi kali ini dengan menerapkan fungsi logaritma terlebih dahulu."
   ]
  },
  {
   "cell_type": "code",
   "execution_count": null,
   "metadata": {},
   "outputs": [],
   "source": []
  },
  {
   "cell_type": "markdown",
   "metadata": {},
   "source": [
    "### Soal 1.4.c (4 poin)\n",
    "\n",
    "Ganti *missing values* pada atribut `gross` dan `budget` tersebut dengan nilai median dari data. Lalu, gambarkan kembali histogram untuk kedua atribut tersebut setelah ditransformasi dengan fungsi logaritma. Apa yang terjadi?\n",
    "\n",
    "*Perhatian: Jangan membuat penggantian nilai tersebut permanen.*"
   ]
  },
  {
   "cell_type": "code",
   "execution_count": null,
   "metadata": {},
   "outputs": [],
   "source": []
  },
  {
   "cell_type": "markdown",
   "metadata": {},
   "source": [
    "*Jawaban Anda di sini*"
   ]
  },
  {
   "cell_type": "markdown",
   "metadata": {},
   "source": [
    "### Soal 1.4.d (3 poin)\n",
    "\n",
    "Hapus data dengan `title_year`, `director_name`, dan `country` yang kosong. Setelah dihapus, reset index dataframe-nya. Berapa jumlah data yang tersisa?"
   ]
  },
  {
   "cell_type": "code",
   "execution_count": null,
   "metadata": {},
   "outputs": [],
   "source": []
  },
  {
   "cell_type": "markdown",
   "metadata": {},
   "source": [
    "### Soal 1.5 (2 poin)\n",
    "\n",
    "Laporkan median, rata-rata, dan simpangan baku untuk `gross`, `budget`, `imdb_score`, dan `num_voted_users` setelah dikelompokkan berdasarkan `country`."
   ]
  },
  {
   "cell_type": "code",
   "execution_count": null,
   "metadata": {
    "scrolled": true
   },
   "outputs": [],
   "source": []
  },
  {
   "cell_type": "markdown",
   "metadata": {},
   "source": [
    "### Soal 1.6 (4 poin)\n",
    "\n",
    "Gunakan `MultiLabelBinarizer` untuk menghasilkan matriks berisi masing-masing *genre*.\n",
    "\n",
    "*Petunjuk: Anda dapat mengolah string dalam `genres` dengan memisahkannya berdasarkan `|`, lalu mengaplikasikan `MultiLabelBinarizer`. Lihat cara penggunaannya di [sini](http://scikit-learn.org/stable/modules/generated/sklearn.preprocessing.MultiLabelBinarizer.html).*"
   ]
  },
  {
   "cell_type": "code",
   "execution_count": null,
   "metadata": {},
   "outputs": [],
   "source": []
  },
  {
   "cell_type": "markdown",
   "metadata": {},
   "source": [
    "Ubah matriks tersebut ke dalam `DataFrame`, lalu gabungkan dengan variabel `df` dan simpan sebagai `df` kembali."
   ]
  },
  {
   "cell_type": "code",
   "execution_count": null,
   "metadata": {
    "collapsed": true
   },
   "outputs": [],
   "source": []
  },
  {
   "cell_type": "markdown",
   "metadata": {},
   "source": [
    "### Soal 1.7.a (2 poin)\n",
    "\n",
    "Gambarkan bar plot yang menunjukkan jumlah film untuk tiap genre."
   ]
  },
  {
   "cell_type": "code",
   "execution_count": null,
   "metadata": {},
   "outputs": [],
   "source": []
  },
  {
   "cell_type": "markdown",
   "metadata": {},
   "source": [
    "### Soal 1.7.b (3 poin)\n",
    "\n",
    "Gambarkan *line plot* persebaran film masing-masing *genre* dengan tahunnya (`title_year`). Ini akan menunjukkan film dengan kategori apa yang paling sering diproduksi dari tahun ke tahun."
   ]
  },
  {
   "cell_type": "code",
   "execution_count": null,
   "metadata": {},
   "outputs": [],
   "source": []
  },
  {
   "cell_type": "markdown",
   "metadata": {},
   "source": [
    "### Soal 1.8.a (3 poin)\n",
    "\n",
    "Gambarkan *scatter plot* untuk atribut `imdb_score` vs `budget`. Tampilkan judul film di titik film dengan `budget` tertinggi.\n",
    "\n",
    "*Catatan: Hati-hati dengan encoding dari judul filmnya.*"
   ]
  },
  {
   "cell_type": "code",
   "execution_count": null,
   "metadata": {},
   "outputs": [],
   "source": []
  },
  {
   "cell_type": "markdown",
   "metadata": {},
   "source": [
    "### Soal 1.8.b (3 poin)\n",
    "\n",
    "Karena kelihatannya ada pencilan dalam data, coba lihat 20 film dengan `budget` tertinggi. Apa kesimpulan yang dapat diambil?\n",
    "\n",
    "*Petunjuk: Mungkin Anda perlu melihat informasi lebih lengkap terkait budget dari film-film tersebut di IMDB.*"
   ]
  },
  {
   "cell_type": "code",
   "execution_count": null,
   "metadata": {},
   "outputs": [],
   "source": []
  },
  {
   "cell_type": "markdown",
   "metadata": {},
   "source": [
    "*Jawaban Anda di sini*"
   ]
  },
  {
   "cell_type": "markdown",
   "metadata": {},
   "source": [
    "### Soal 1.9 (2 poin)\n",
    "\n",
    "Berapa nilai korelasi antara atribut `imdb_score` dengan `budget` tersebut?\n",
    "\n",
    "*Catatan: Buang data yang masih mengandung nilai null untuk kedua atribut tersebut.*"
   ]
  },
  {
   "cell_type": "code",
   "execution_count": null,
   "metadata": {},
   "outputs": [],
   "source": []
  },
  {
   "cell_type": "markdown",
   "metadata": {},
   "source": [
    "### Soal 1.10 (2 poin)\n",
    "\n",
    "Film apa saja yang menjadi film dengan *budget* termahal yang diproduksi dari masing-masing negara?"
   ]
  },
  {
   "cell_type": "code",
   "execution_count": null,
   "metadata": {
    "scrolled": true
   },
   "outputs": [],
   "source": []
  },
  {
   "cell_type": "markdown",
   "metadata": {},
   "source": [
    "### Soal 1.11 (5 poin)\n",
    "\n",
    "Berikan kesimpulan sementara Anda dari eksplorasi yang telah dilakukan sejauh ini."
   ]
  },
  {
   "cell_type": "markdown",
   "metadata": {},
   "source": [
    "*Jawaban Anda di sini*"
   ]
  },
  {
   "cell_type": "markdown",
   "metadata": {},
   "source": [
    "## 2. Eksplorasi Kesuksesan Film (55 poin)\n",
    "\n",
    "Pada bagian ini, kita akan menggali lebih dalam tentang hal-hal yang berhubungan dengn kesuksesan suatu film. Pada bagian ini, Anda hanya akan mengolah **film yang berasal dari USA saja**."
   ]
  },
  {
   "cell_type": "markdown",
   "metadata": {},
   "source": [
    "### Soal 2.1.a (2 poin)\n",
    "\n",
    "Ubah data Anda agar hanya berisikan film dari USA saja. Berapa jumlah film yang akan kita olah?"
   ]
  },
  {
   "cell_type": "code",
   "execution_count": null,
   "metadata": {},
   "outputs": [],
   "source": []
  },
  {
   "cell_type": "markdown",
   "metadata": {},
   "source": [
    "### Soal 2.1.b (1 poin)\n",
    "\n",
    "Kita ingin melihat film-film seperti apa yang memiliki profit tinggi. Untuk itu profit dapat dihitung dengan rumus:\n",
    "\n",
    "$$\n",
    "profit = gross - budget\n",
    "$$\n",
    "\n",
    "Buatlah kolom baru dalam data yang menyimpan nilai profit tersebut."
   ]
  },
  {
   "cell_type": "code",
   "execution_count": null,
   "metadata": {
    "collapsed": true
   },
   "outputs": [],
   "source": []
  },
  {
   "cell_type": "markdown",
   "metadata": {},
   "source": [
    "### Soal 2.1.c (4 poin)\n",
    "\n",
    "Gambarkan scatter plot **30 film yang memiliki profit tertinggi** dengan sumbu $x$ adalah `budget` sedangkan sumbu $y$ adalah `profit`. Tampilkan pula nama masing-masing film di setiap titiknya.\n",
    "\n",
    "*Catatan: Hati-hati dengan encoding judul film. Anda dapat menggunakan `.decode('utf8')` untuk memastikan anotasinya berhasil.*"
   ]
  },
  {
   "cell_type": "code",
   "execution_count": null,
   "metadata": {},
   "outputs": [],
   "source": []
  },
  {
   "cell_type": "markdown",
   "metadata": {},
   "source": [
    "### Soal 2.2.a (3 poin)\n",
    "\n",
    "Carilah 50 sutradara yang menghasilkan rata-rata *profit* tertinggi."
   ]
  },
  {
   "cell_type": "code",
   "execution_count": null,
   "metadata": {
    "scrolled": true
   },
   "outputs": [],
   "source": []
  },
  {
   "cell_type": "markdown",
   "metadata": {},
   "source": [
    "### Soal 2.2.b (3 poin)\n",
    "\n",
    "Carilah 50 sutradara yang menghasilkan rata-rata `imdb_score` tertinggi. Apakah daftarnya berbeda? Apa yang dapat Anda lihat?"
   ]
  },
  {
   "cell_type": "code",
   "execution_count": null,
   "metadata": {
    "scrolled": true
   },
   "outputs": [],
   "source": []
  },
  {
   "cell_type": "markdown",
   "metadata": {},
   "source": [
    "*Jawaban Anda di sini*"
   ]
  },
  {
   "cell_type": "markdown",
   "metadata": {},
   "source": [
    "### Soal 2.3 (5 poin)\n",
    "\n",
    "Pertanyaan berikutnya yang mungkin muncul adalah,\n",
    "\n",
    "> Seberapa mencolok perbedaan antara yang film yang sukses secara finansial dan sukses dari anggapan kritikus?\n",
    "\n",
    "Ambil 100 film dengan `profit` paling besar dan 100 film dengan `imdb_score` paling tinggi. Lalu, coba gunakan Jaccard similarity untuk mengetahui seberapa mirip kedua daftar tersebut. Anda tidak diperkenankan menggunakan Jaccard distance dari scikit-learn atau pustaka lainnya.\n",
    "\n",
    "Rumus Jaccard similarity:\n",
    "$$\n",
    "sim(S,T) = \\frac{|S \\cap T|}{|S \\cup T|}\n",
    "$$\n",
    "\n",
    "*Catatan: Berhati-hatilah saat menghitung pembagian. Anda mungkin perlu melakukan typecasting.*"
   ]
  },
  {
   "cell_type": "code",
   "execution_count": null,
   "metadata": {},
   "outputs": [],
   "source": []
  },
  {
   "cell_type": "markdown",
   "metadata": {},
   "source": [
    "### Soal 2.4.a (2 poin)\n",
    "\n",
    "Ambil 100 film dengan `imdb_score` paling besar. Genre apakah yang banyak muncul dari 100 film tersebut? Buatlah dalam bentuk bar plot."
   ]
  },
  {
   "cell_type": "code",
   "execution_count": null,
   "metadata": {},
   "outputs": [],
   "source": []
  },
  {
   "cell_type": "markdown",
   "metadata": {},
   "source": [
    "### Soal 2.4.b (2 poin)\n",
    "\n",
    "Coba bandingkan bar plot yang baru dihasilkan dengan bar plot dari soal 1.7.a. Apa yang dapat Anda simpulkan?"
   ]
  },
  {
   "cell_type": "markdown",
   "metadata": {},
   "source": [
    "*Jawaban Anda di sini*"
   ]
  },
  {
   "cell_type": "markdown",
   "metadata": {},
   "source": [
    "### Soal 2.5.a (2 poin)\n",
    "\n",
    "Gambarkan box plot dari budget film."
   ]
  },
  {
   "cell_type": "code",
   "execution_count": null,
   "metadata": {},
   "outputs": [],
   "source": []
  },
  {
   "cell_type": "markdown",
   "metadata": {},
   "source": [
    "### Soal 2.5.b (3 poin)\n",
    "\n",
    "Berdasarkan box plot tersebut, Anda akan melihat bahwa *inner fence*-nya ada di sekitar $1.1 \\times 10^8$. Tugas Anda sekarang adalah mencari apakah ada film dengan budget $< 1.1 \\times 10^8$ tetapi masih mendapatkan `imdb_score` $\\geq 8.8$. Cetaklah nama sutradara, judul film, dan genre-nya."
   ]
  },
  {
   "cell_type": "code",
   "execution_count": null,
   "metadata": {},
   "outputs": [],
   "source": []
  },
  {
   "cell_type": "markdown",
   "metadata": {},
   "source": [
    "### Soal 2.6.a (2 poin)\n",
    "\n",
    "Hal yang belum kita eksplorasi adalah hubungan antara durasi film dengan kesuksesannya. Coba gambarkan histogram dari durasi film terlebih dahulu."
   ]
  },
  {
   "cell_type": "code",
   "execution_count": null,
   "metadata": {},
   "outputs": [],
   "source": []
  },
  {
   "cell_type": "markdown",
   "metadata": {},
   "source": [
    "### Soal 2.6.b (3 poin)\n",
    "\n",
    "Sekarang, gambarkan *scatter plot* yang membandingkan `imdb_score` dengan durasinya. Apa yang dapat Anda simpulkan?"
   ]
  },
  {
   "cell_type": "code",
   "execution_count": null,
   "metadata": {
    "scrolled": true
   },
   "outputs": [],
   "source": []
  },
  {
   "cell_type": "markdown",
   "metadata": {},
   "source": [
    "*Jawaban Anda di sini*"
   ]
  },
  {
   "cell_type": "markdown",
   "metadata": {},
   "source": [
    "### Soal 2.7 (4 poin)\n",
    "\n",
    "Setelah mencoba melihat hubungan antarvariabel satu per satu, sekarang coba hitung nilai korelasi dari pasangan fitur-fitur berikut:\n",
    "\n",
    "- duration\n",
    "- director_facebook_likes\n",
    "- actor_1_facebook_likes\n",
    "- actor_2_facebook_likes\n",
    "- actor_3_facebook_likes\n",
    "- gross\n",
    "- budget\n",
    "- num_voted_users\n",
    "- num_critic_for_reviews\n",
    "- num_user_for_reviews\n",
    "- imdb_score\n",
    "\n",
    "Gambarkan nilai korelasi tersebut dalam bentuk heatmap yang dianotasi!"
   ]
  },
  {
   "cell_type": "code",
   "execution_count": null,
   "metadata": {
    "collapsed": true
   },
   "outputs": [],
   "source": []
  },
  {
   "cell_type": "markdown",
   "metadata": {},
   "source": [
    "### Soal 2.8 (4 poin)\n",
    "\n",
    "Kali ini, Anda akan membuat sebuah sistem rekomendasi sederhana berbasis konten.\n",
    "\n",
    "Misalnya, Anda baru menonton film dengan genre **Action, Sci-Fi, Romance** dan memberikan rating di IMDB dengan score 9.0. Berdasarkan hal tersebut, film apa yang akan direkomendasikan pada Anda?\n",
    "\n",
    "Hitung *cosine similarity* dari genre **Action, Sci-Fi, Romance** ini dibandingkan dengan film yang ada dalam data, cetak nilainya, lalu cetak pula judul dan genre dengan nilai *cosine similarity* terbesar tersebut!\n",
    "\n",
    "*Petunjuk: Gunakan fungsi cosine_similarity() dari scikit-learn. Anda dapat menggunakan kembali MultilabelBinarizer yang sudah dibuat pada soal 1.6.*"
   ]
  },
  {
   "cell_type": "code",
   "execution_count": null,
   "metadata": {},
   "outputs": [],
   "source": []
  },
  {
   "cell_type": "markdown",
   "metadata": {},
   "source": [
    "### Soal 2.9 (5 poin)\n",
    "\n",
    "Carilah film dengan profit paling besar untuk masing-masing genre."
   ]
  },
  {
   "cell_type": "code",
   "execution_count": null,
   "metadata": {
    "collapsed": true
   },
   "outputs": [],
   "source": []
  },
  {
   "cell_type": "markdown",
   "metadata": {},
   "source": [
    "### Soal 2.10 (5 poin)\n",
    "\n",
    "Lakukan eksplorasi tambahan dengan menggunakan dataset ini. Coba tanyakan hal-hal baru. Hasilkan visualisasi dari fitur yang belum digali lebih jauh di atas. Apakah ada fitur turunan yang bisa dihasilkan dari dataset tersebut?"
   ]
  },
  {
   "cell_type": "markdown",
   "metadata": {},
   "source": [
    "*Jawaban Anda di sini*"
   ]
  },
  {
   "cell_type": "markdown",
   "metadata": {
    "collapsed": true
   },
   "source": [
    "### Soal 2.11 (5 poin)\n",
    "\n",
    "Berikan kesimpulan dari hal-hal yang telah Anda lakukan terhadap dataset ini!"
   ]
  },
  {
   "cell_type": "markdown",
   "metadata": {},
   "source": [
    "*Jawaban Anda di sini*"
   ]
  }
 ],
 "metadata": {
  "kernelspec": {
   "display_name": "Python 2",
   "language": "python",
   "name": "python2"
  },
  "language_info": {
   "codemirror_mode": {
    "name": "ipython",
    "version": 2
   },
   "file_extension": ".py",
   "mimetype": "text/x-python",
   "name": "python",
   "nbconvert_exporter": "python",
   "pygments_lexer": "ipython2",
   "version": "2.7.13"
  }
 },
 "nbformat": 4,
 "nbformat_minor": 2
}
