{
 "cells": [
  {
   "cell_type": "markdown",
   "metadata": {},
   "source": [
    "# Data Mining\n",
    "\n",
    "## Tugas 4: k-Nearest Neighbours dan Clustering\n",
    "\n",
    "### Mekanisme\n",
    "\n",
    "Anda hanya diwajibkan untuk mengumpulkan file ini saja ke uploader yang disediakan di http://elearning2.uai.ac.id/. Ganti nama file ini saat pengumpulan menjadi **tugas4_NIM.ipynb**.\n",
    "\n",
    "**Keterlambatan**: Pengumpulan tugas yang melebihi tenggat yang telah ditentukan tidak akan diterima. Keterlambatan akan berakibat pada nilai nol untuk tugas ini.\n",
    "\n",
    "**Kolaborasi**: Anda diperbolehkan untuk berdiskusi dengan teman Anda, tetapi *dilarang keras* menyalin kode maupun tulisan dari teman Anda.\n",
    "\n",
    "### Petunjuk\n",
    "\n",
    "Terdapat enam *packages* yang Anda akan gunakan dalam mengerjakan tugas ini, yaitu:\n",
    "\n",
    "- matplotlib\n",
    "- numpy\n",
    "- pandas\n",
    "- scipy\n",
    "- seaborn\n",
    "- scikit-learn\n",
    "\n",
    "Anda diperbolehkan (jika dirasa perlu) untuk mengimpor modul tambahan untuk tugas ini, kecuali dijelaskan sebaliknya. Namun, seharusnya modul yang tersedia sudah cukup untuk memenuhi kebutuhan Anda.\n",
    "\n",
    "Pastikan jawaban Anda singkat, padat, dan jelas. Mayoritas pertanyaan yang diberikan dapat dijawab dalam 3-4 kalimat saja."
   ]
  },
  {
   "cell_type": "markdown",
   "metadata": {},
   "source": [
    "**NIM: **\n",
    "\n",
    "**Nilai akhir: XX/55**"
   ]
  },
  {
   "cell_type": "markdown",
   "metadata": {},
   "source": [
    "### Import"
   ]
  },
  {
   "cell_type": "code",
   "execution_count": null,
   "metadata": {
    "collapsed": true
   },
   "outputs": [],
   "source": [
    "from sklearn.cluster import KMeans\n",
    "from sklearn.neighbors import KNeighborsClassifier, KNeighborsRegressor\n",
    "from sklearn.metrics import accuracy_score, adjusted_rand_score, confusion_matrix\n",
    "\n",
    "import matplotlib.pyplot as plt\n",
    "import numpy as np\n",
    "import pandas as pd\n",
    "import seaborn as sns\n",
    "%matplotlib inline\n",
    "\n",
    "RANDOM_STATE = 1945\n",
    "plt.style.use('bmh')"
   ]
  },
  {
   "cell_type": "code",
   "execution_count": null,
   "metadata": {},
   "outputs": [],
   "source": [
    "df = pd.read_csv('../dataset/menu.csv')\n",
    "df.head()"
   ]
  },
  {
   "cell_type": "markdown",
   "metadata": {},
   "source": [
    "### Deskripsi Dataset\n",
    "\n",
    "Dataset ini berisi fakta nutrisi dari menu McDonald's di Amerika Serikat. Anda akan punya atribut berupa analisisi nutrisi yang dicantumkan pada situs McDonald's. Terdapat 9 kategori menu yang ada dalam dataset ini. Dengan dataset yang bersifat *imbalanced* ini, Anda akan mencoba memprediksi kategori tersebut dengan beberapa algoritma."
   ]
  },
  {
   "cell_type": "markdown",
   "metadata": {},
   "source": [
    "## 1. Preprocessing (20 poin)\n",
    "\n",
    "Pada bagian ini, Anda diminta untuk mengekstraksi poin-poin penting dari dataset yang digunakan."
   ]
  },
  {
   "cell_type": "markdown",
   "metadata": {},
   "source": [
    "### Soal 1.1 (2 poin)\n",
    "\n",
    "Tunjukkan distribusi kategori menu yang ada."
   ]
  },
  {
   "cell_type": "code",
   "execution_count": null,
   "metadata": {},
   "outputs": [],
   "source": []
  },
  {
   "cell_type": "markdown",
   "metadata": {},
   "source": [
    "### Soal 1.2.a (2 poin)\n",
    "\n",
    "Gambarkan histogram untuk nilai `Calories` dari menu."
   ]
  },
  {
   "cell_type": "code",
   "execution_count": null,
   "metadata": {},
   "outputs": [],
   "source": []
  },
  {
   "cell_type": "markdown",
   "metadata": {},
   "source": [
    "### Soal 1.2.b (1 poin)\n",
    "\n",
    "Anda mungkin akan menemukan bahwa ada pencilan dari nilai `Calories`. Tunjukkan menu yang dimaksud."
   ]
  },
  {
   "cell_type": "code",
   "execution_count": null,
   "metadata": {},
   "outputs": [],
   "source": []
  },
  {
   "cell_type": "markdown",
   "metadata": {},
   "source": [
    "### Soal 1.3.a (3 poin)\n",
    "\n",
    "Kita ingin mencari tahu angka kebutuhan gizi dari menu yang ada. Untuk itu, gambarkanlah box plot dari:\n",
    "- Total Fat (% Daily Value)\n",
    "- Saturated Fat (% Daily Value)\n",
    "- Cholesterol (% Daily Value)\n",
    "- Sodium (% Daily Value)\n",
    "- Carbohydrates (% Daily Value)\n",
    "- Dietary Fiber (% Daily Value)\n",
    "- Vitamin A (% Daily Value)\n",
    "- Vitamin C (% Daily Value)\n",
    "- Calcium (% Daily Value)\n",
    "- Iron (% Daily Value)"
   ]
  },
  {
   "cell_type": "code",
   "execution_count": null,
   "metadata": {},
   "outputs": [],
   "source": []
  },
  {
   "cell_type": "markdown",
   "metadata": {},
   "source": [
    "### Soal 1.3.b (2 poin)\n",
    "\n",
    "Dari box plot yang telah Anda hasilkan, Anda akan menemukan bahwa beberapa menu memiliki nilai > 100% angka kebutuhan gizi harian. Cari tahu menu-menu tersebut."
   ]
  },
  {
   "cell_type": "code",
   "execution_count": null,
   "metadata": {},
   "outputs": [],
   "source": []
  },
  {
   "cell_type": "markdown",
   "metadata": {},
   "source": [
    "### Soal 1.4.a (2 poin)\n",
    "\n",
    "Apakah `Total Fat` berhubungan dengan `Cholesterol`? Kalau iya, seberapa berhubungan?"
   ]
  },
  {
   "cell_type": "code",
   "execution_count": null,
   "metadata": {},
   "outputs": [],
   "source": []
  },
  {
   "cell_type": "markdown",
   "metadata": {},
   "source": [
    "### Soal 1.4.b (2 poin)\n",
    "\n",
    "Gambarkan scatter plot-nya untuk melihat lebih jelas hubungan `Total Fat` dan `Cholesterol`."
   ]
  },
  {
   "cell_type": "code",
   "execution_count": null,
   "metadata": {},
   "outputs": [],
   "source": []
  },
  {
   "cell_type": "markdown",
   "metadata": {},
   "source": [
    "### Soal 1.5 (6 poin)\n",
    "\n",
    "Lakukan eksplorasi tambahan terhadap dataset yang telah diberikan. Apa lagi yang Anda ingin ketahui dari dataset ini?"
   ]
  },
  {
   "cell_type": "code",
   "execution_count": null,
   "metadata": {},
   "outputs": [],
   "source": []
  },
  {
   "cell_type": "markdown",
   "metadata": {},
   "source": [
    "## 2. k-Nearest Neighbours (20 poin)\n",
    "\n",
    "Anda diminta untuk mengimplementasikan dan menjelaskan beberapa konsep yang digunakan dalam algoritma k-Nearest Neighbours."
   ]
  },
  {
   "cell_type": "markdown",
   "metadata": {},
   "source": [
    "### Soal 2.1 (3 poin)\n",
    "\n",
    "Bagi dataset Anda dengan rasio train:test=70:30. Gunakan atribut angka kebutuhan gizi pada bagian 1 sebagai atribut dan `Category` sebagai kelas dan 42 sebagai parameter `random_state`."
   ]
  },
  {
   "cell_type": "code",
   "execution_count": null,
   "metadata": {
    "collapsed": true
   },
   "outputs": [],
   "source": [
    "from sklearn.model_selection import train_test_split\n",
    "\n",
    "# Kode Anda di sini"
   ]
  },
  {
   "cell_type": "markdown",
   "metadata": {},
   "source": [
    "### Soal 2.2.a (4 poin)\n",
    "\n",
    "Klasifikasikan data uji dengan menggunakan algoritma k-NN dengan $k \\in [1,7]$. Gambarkan perubahan akurasi yang dihasilkan dengan menggunakan line plot."
   ]
  },
  {
   "cell_type": "code",
   "execution_count": null,
   "metadata": {},
   "outputs": [],
   "source": []
  },
  {
   "cell_type": "markdown",
   "metadata": {},
   "source": [
    "### Soal 2.2.b (2 poin)\n",
    "\n",
    "Dari plot tersebut, berapa nilai $k$ yang akan Anda pilih? Mengapa?"
   ]
  },
  {
   "cell_type": "markdown",
   "metadata": {
    "collapsed": true
   },
   "source": [
    "_Jawaban Anda di sini_"
   ]
  },
  {
   "cell_type": "markdown",
   "metadata": {},
   "source": [
    "### Soal 2.2.c (3 poin)\n",
    "\n",
    "Dari nilai $k$ yang Anda pilih, buatlah *heatmap* dari *confusion matrix*-nya! Jangan lupa untuk memberikan label untuk masing-masing sumbunya dan menganotasi tiap kotak pada *heatmap*!"
   ]
  },
  {
   "cell_type": "code",
   "execution_count": null,
   "metadata": {},
   "outputs": [],
   "source": []
  },
  {
   "cell_type": "markdown",
   "metadata": {},
   "source": [
    "### Soal 2.3 (2 poin)\n",
    "\n",
    "Mengapa k-Nearest Neighbours disebut sebagai model *non-parametrik*?"
   ]
  },
  {
   "cell_type": "markdown",
   "metadata": {},
   "source": [
    "_Jawaban Anda di sini_"
   ]
  },
  {
   "cell_type": "markdown",
   "metadata": {},
   "source": [
    "### Soal 2.4 (4 poin)\n",
    "\n",
    "Coba perbaiki model Anda. Tambahkan atribut baru atau ganti nilai *hyperparameter*-nya. Apakah Anda dapat menghasilkan model yang lebih baik?"
   ]
  },
  {
   "cell_type": "code",
   "execution_count": null,
   "metadata": {
    "collapsed": true
   },
   "outputs": [],
   "source": []
  },
  {
   "cell_type": "markdown",
   "metadata": {},
   "source": [
    "### Soal 2.5 (3 poin)\n",
    "\n",
    "Tuliskan kesimpulan Anda dari eksperimen ini!"
   ]
  },
  {
   "cell_type": "markdown",
   "metadata": {},
   "source": [
    "_Jawaban Anda di sini_"
   ]
  },
  {
   "cell_type": "markdown",
   "metadata": {},
   "source": [
    "## 3. Clustering (15 poin)\n",
    "\n",
    "Pada bagian ini, Anda akan mencoba melakukan klasifikasi dengan memanfaatkan algoritma *clustering* seperti k-Means dan Gaussian Mixture Models."
   ]
  },
  {
   "cell_type": "markdown",
   "metadata": {},
   "source": [
    "### Soal 3.1 (3 poin)\n",
    "\n",
    "Dengan menggunakan `X`, lakukan clustering dengan k-Means. Gunakan nilai $k \\in [2,15]$, lalu hitung nilai *inertia*-nya. Gambarkan *scree plot* dari *inertia* tersebut. Apa yang dapat Anda lihat?"
   ]
  },
  {
   "cell_type": "code",
   "execution_count": null,
   "metadata": {},
   "outputs": [],
   "source": []
  },
  {
   "cell_type": "markdown",
   "metadata": {},
   "source": [
    "### Soal 3.2.a (3 poin)\n",
    "\n",
    "Anda juga dapat mengevaluasi \"akurasi\" dari *clustering* yang Anda lakukan dengan menggunakan `adjusted_rand_score()`. Coba jalankan algoritma k-Means dengan $k=9$, lakukan sebanyak 100 kali. Lakukan *clustering* pada `X_train`, lalu prediksi *cluster* untuk data `X_test`. Kemudian, gambarkan histogram dari nilai evaluasi *adjusted Rand index* yang dihasilkan. Mengapa hasilnya bisa berbeda-beda?"
   ]
  },
  {
   "cell_type": "code",
   "execution_count": null,
   "metadata": {},
   "outputs": [],
   "source": []
  },
  {
   "cell_type": "markdown",
   "metadata": {},
   "source": [
    "### Soal 3.2.b (2 poin)\n",
    "\n",
    "Berapa nilai yang mungkin dari Adjusted Rand Index (ARI)? Apakah hasil yang Anda dapatkan di atas sudah cukup baik?"
   ]
  },
  {
   "cell_type": "markdown",
   "metadata": {},
   "source": [
    "*Jawaban Anda di sini*"
   ]
  },
  {
   "cell_type": "markdown",
   "metadata": {},
   "source": [
    "### Soal 3.2.c (3 poin)\n",
    "\n",
    "Lakukan hal yang sama seperti yang Anda lakukan pada soal 3.2.a, tetapi kali ini gunakan algoritma Gaussian Mixture Models dengan 9 klaster. Gambarkan kembali histogram dari ARI-nya."
   ]
  },
  {
   "cell_type": "code",
   "execution_count": null,
   "metadata": {
    "scrolled": true
   },
   "outputs": [],
   "source": []
  },
  {
   "cell_type": "markdown",
   "metadata": {},
   "source": [
    "### Soal 3.3 (4 poin)\n",
    "\n",
    "Tuliskan kesimpulan Anda dari eksperimen ini! Anda diperkenankan melakukan eksperimen tambahan untuk memperkuat kesimpulan Anda."
   ]
  },
  {
   "cell_type": "markdown",
   "metadata": {},
   "source": [
    "*Jawaban Anda di sini*"
   ]
  }
 ],
 "metadata": {
  "kernelspec": {
   "display_name": "Python 3",
   "language": "python",
   "name": "python3"
  },
  "language_info": {
   "codemirror_mode": {
    "name": "ipython",
    "version": 3
   },
   "file_extension": ".py",
   "mimetype": "text/x-python",
   "name": "python",
   "nbconvert_exporter": "python",
   "pygments_lexer": "ipython3",
   "version": "3.6.2"
  }
 },
 "nbformat": 4,
 "nbformat_minor": 1
}
