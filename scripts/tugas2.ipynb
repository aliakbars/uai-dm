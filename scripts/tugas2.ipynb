{
 "cells": [
  {
   "cell_type": "markdown",
   "metadata": {},
   "source": [
    "# Data Mining\n",
    "\n",
    "## Tugas 2: Analisis Data dan Visualisasi\n",
    "\n",
    "### Mekanisme\n",
    "\n",
    "Anda hanya diwajibkan untuk mengumpulkan file ini saja ke uploader yang disediakan di http://elearning.uai.ac.id/. Ganti nama file ini saat pengumpulan menjadi **tugas2_NIM.ipynb**.\n",
    "\n",
    "**Keterlambatan**: Pengumpulan tugas yang melebihi tenggat yang telah ditentukan tidak akan diterima. Keterlambatan akan berakibat pada nilai nol untuk tugas ini.\n",
    "\n",
    "**Kolaborasi**: Anda diperbolehkan untuk berdiskusi dengan teman Anda, tetapi *dilarang keras* menyalin kode maupun tulisan dari teman Anda.\n",
    "\n",
    "### Petunjuk\n",
    "\n",
    "Terdapat enam *packages* yang Anda akan gunakan dalam mengerjakan tugas ini, yaitu:\n",
    "\n",
    "- matplotlib\n",
    "- numpy\n",
    "- pandas\n",
    "- scipy\n",
    "- seaborn\n",
    "- scikit-learn\n",
    "\n",
    "Anda diperbolehkan (jika dirasa perlu) untuk mengimpor modul tambahan untuk tugas ini, kecuali dijelaskan sebaliknya. Namun, seharusnya modul yang tersedia sudah cukup untuk memenuhi kebutuhan Anda.\n",
    "\n",
    "Pastikan jawaban Anda singkat, padat, dan jelas. Mayoritas pertanyaan yang diberikan dapat dijawab dalam 3-4 kalimat saja."
   ]
  },
  {
   "cell_type": "markdown",
   "metadata": {},
   "source": [
    "### Import"
   ]
  },
  {
   "cell_type": "code",
   "execution_count": null,
   "metadata": {
    "collapsed": true,
    "jupyter": {
     "outputs_hidden": true
    }
   },
   "outputs": [],
   "source": [
    "from scipy.stats import norm\n",
    "import matplotlib.pyplot as plt\n",
    "import numpy as np\n",
    "import pandas as pd\n",
    "import seaborn as sns\n",
    "%matplotlib inline"
   ]
  },
  {
   "cell_type": "code",
   "execution_count": null,
   "metadata": {
    "collapsed": true,
    "jupyter": {
     "outputs_hidden": true
    }
   },
   "outputs": [],
   "source": [
    "# Modul tambahan untuk membuat Bag-of-Words dan cosine similarity\n",
    "from sklearn.feature_extraction.text import CountVectorizer\n",
    "from sklearn.metrics.pairwise import cosine_similarity"
   ]
  },
  {
   "cell_type": "code",
   "execution_count": null,
   "metadata": {
    "collapsed": true,
    "jupyter": {
     "outputs_hidden": true
    }
   },
   "outputs": [],
   "source": [
    "# Membaca file\n",
    "df = pd.read_pickle('../dataset/spam.p')"
   ]
  },
  {
   "cell_type": "markdown",
   "metadata": {},
   "source": [
    "### Deskripsi Dataset\n",
    "\n",
    "Tugas ini didasarkan pada tugas klasifikasi spam yang dilakukan dalam makalah oleh [Septiandri dan Wibisono (2016)](https://iopscience.iop.org/article/10.1088/1742-6596/801/1/012069/pdf). Spam dalam komentar Instagram didefinisikan sebagai komentar yang memiliki tujuan untuk mempromosikan sesuatu, baik itu produk maupun jasa, yang tidak berhubungan dengan pos aslinya; sedangkan ham adalah komentar yang bukan spam. Tugas kali ini lebih difokuskan pada eksplorasi data tersebut, bukan pada proses klasifikasinya.\n",
    "\n",
    "Ada dua kelompok fitur utama dalam dataset yang diberikan: fitur dasar dan pola kata kunci yang dikumpulkan sendiri. Beberapa contoh fitur dasarnya antara lain: jumlah token, jumlah emoji, dan jumlah huruf kapital. Sementara pola kata kunci yang didapat (menggunakan regex) antara lain:\n",
    "\n",
    "- `s(o|u|ou)venir`\n",
    "- `yu+k`\n",
    "- `free (delivery|ongkos|ongkir|pengiriman)|gratis|murah|promo|terjangkau`.\n",
    "\n",
    "Dataset ini juga menyimpan id dari pos yang diberikan komentar (`id_post`) dan user yang menghasilkan pos tersebut (`username_post`). Teks asli dari komentar tersebut juga terkandung dalam dataset ini agar dapat Anda eksplorasi dan coba beberapa jenis representasi yang diperlukan. Harapannya, eksplorasi Anda dapat menghasilkan hal baru yang belum tercakup dalam makalah tersebut."
   ]
  },
  {
   "cell_type": "markdown",
   "metadata": {},
   "source": [
    "## 1. Eksplorasi Awal Dataset (25 poin)\n",
    "\n",
    "Tugas Anda adalah melaporkan beberapa *summary statistics* yang diperlukan untuk memahami dataset yang digunakan."
   ]
  },
  {
   "cell_type": "markdown",
   "metadata": {},
   "source": [
    "### Soal 1.1 (3 poin)\n",
    "Laporkan deskripsi data tanpa memunculkan ID dari komentar tersebut."
   ]
  },
  {
   "cell_type": "code",
   "execution_count": null,
   "metadata": {
    "collapsed": true,
    "jupyter": {
     "outputs_hidden": true
    }
   },
   "outputs": [],
   "source": [
    "# Kode Anda"
   ]
  },
  {
   "cell_type": "markdown",
   "metadata": {},
   "source": [
    "### Soal 1.2 (2 poin)\n",
    "\n",
    "Berapa dimensi dari data yang Anda gunakan?"
   ]
  },
  {
   "cell_type": "code",
   "execution_count": null,
   "metadata": {
    "collapsed": true,
    "jupyter": {
     "outputs_hidden": true
    }
   },
   "outputs": [],
   "source": [
    "# Kode Anda"
   ]
  },
  {
   "cell_type": "markdown",
   "metadata": {},
   "source": [
    "### Soal 1.3 (4 poin)\n",
    "\n",
    "Berapa jumlah label spam dan ham?\n",
    "\n",
    "*Petunjuk: Periksa kolom `label`! (1 = spam, 0 = ham)*"
   ]
  },
  {
   "cell_type": "code",
   "execution_count": null,
   "metadata": {
    "collapsed": true,
    "jupyter": {
     "outputs_hidden": true
    }
   },
   "outputs": [],
   "source": [
    "# Kode Anda"
   ]
  },
  {
   "cell_type": "markdown",
   "metadata": {},
   "source": [
    "### Soal 1.4 (12 poin)\n",
    "\n",
    "Laporkan median, rata-rata, dan simpangan baku untuk:\n",
    "- `comments` per `username_post`\n",
    "- `likes` per `username_post`\n",
    "\n",
    "*Catatan*: Pastikan bahwa `id_post` untuk setiap `username_post` unik!"
   ]
  },
  {
   "cell_type": "code",
   "execution_count": null,
   "metadata": {
    "collapsed": true,
    "jupyter": {
     "outputs_hidden": true
    }
   },
   "outputs": [],
   "source": [
    "# Kode Anda"
   ]
  },
  {
   "cell_type": "markdown",
   "metadata": {},
   "source": [
    "### Soal 1.5 (4 poin)\n",
    "\n",
    "Kapan kita lebih mementingkan nilai median dibandingkan rata-rata?\n",
    "\n",
    "*Tulis jawaban Anda di sini*"
   ]
  },
  {
   "cell_type": "markdown",
   "metadata": {},
   "source": [
    "## 2. Visualisasi Data dan Jarak Antarobjek (75 poin)\n",
    "\n",
    "Pada bagian ini, Anda diminta untuk memberikan grafik dari beberapa komponen yang ada dalam dataset. Jangan lupa untuk memberikan label pada setiap sumbu dari grafik yang Anda hasilkan! Selain itu, Anda juga diminta untuk memberikan beberapa perhitungan jarak antarobjek dan membuat sebuah metode klasifikasi sederhana."
   ]
  },
  {
   "cell_type": "markdown",
   "metadata": {},
   "source": [
    "### Soal 2.1.a (5 poin)\n",
    "\n",
    "Gambarkan scatter plot untuk atribut `n_char` vs `n_emoji`"
   ]
  },
  {
   "cell_type": "code",
   "execution_count": null,
   "metadata": {
    "collapsed": true,
    "jupyter": {
     "outputs_hidden": true
    }
   },
   "outputs": [],
   "source": [
    "# Kode Anda"
   ]
  },
  {
   "cell_type": "markdown",
   "metadata": {},
   "source": [
    "### Soal 2.1.b (5 poin)\n",
    "\n",
    "Berapa nilai korelasi antara atribut `n_char` vs `n_emoji` tersebut?"
   ]
  },
  {
   "cell_type": "code",
   "execution_count": null,
   "metadata": {
    "collapsed": true,
    "jupyter": {
     "outputs_hidden": true
    }
   },
   "outputs": [],
   "source": [
    "# Kode Anda"
   ]
  },
  {
   "cell_type": "markdown",
   "metadata": {},
   "source": [
    "### Soal 2.2.a (8 poin)\n",
    "\n",
    "Dengan menggunakan metode `CountVectorizer()`, Anda akan menghasilkan representasi bag-of-words. Laporkan jumlah atribut yang dihasilkan dari representasi tersebut lalu tunjukkan potongan matriks dari 40 objek pertama dan 20 atribut pertama (menghasilkan matriks 40x20)!"
   ]
  },
  {
   "cell_type": "code",
   "execution_count": null,
   "metadata": {
    "collapsed": true,
    "jupyter": {
     "outputs_hidden": true
    }
   },
   "outputs": [],
   "source": [
    "vect = CountVectorizer(binary=True)\n",
    "matrix = vect.fit_transform(df['text'])\n",
    "\n",
    "# Kode Anda"
   ]
  },
  {
   "cell_type": "markdown",
   "metadata": {},
   "source": [
    "### Soal 2.2.b (2 poin)\n",
    "\n",
    "Apa yang dimaksud dengan *sparse matrix*?\n",
    "\n",
    "*Tulis jawaban Anda di sini*"
   ]
  },
  {
   "cell_type": "markdown",
   "metadata": {},
   "source": [
    "### Soal 2.3 (10 poin)\n",
    "\n",
    "Cetak isi teks komentar dari objek dengan indeks 2228 dan 2509, lalu hitung nilai cosine similarity dari kedua objek tersebut!\n",
    "\n",
    "*Petunjuk: Gunakan representasi bag-of-words yang telah dihasilkan di Soal 2.2.a!*"
   ]
  },
  {
   "cell_type": "code",
   "execution_count": null,
   "metadata": {
    "collapsed": true,
    "jupyter": {
     "outputs_hidden": true
    }
   },
   "outputs": [],
   "source": [
    "# Kode Anda"
   ]
  },
  {
   "cell_type": "markdown",
   "metadata": {},
   "source": [
    "### Soal 2.4.a (10 poin)\n",
    "\n",
    "Di bawah ini, diberikan sebuah teks baru yang kita asumsikan sebagai spam tetapi tidak ketahui labelnya. Hitung cosine similarity dari teks ini dibandingkan dengan semua dokumen yang ada, cetak nilainya, lalu cetak pula isi dokumen dengan nilai cosine similarity terbesar tersebut!"
   ]
  },
  {
   "cell_type": "code",
   "execution_count": null,
   "metadata": {
    "collapsed": true,
    "jupyter": {
     "outputs_hidden": true
    }
   },
   "outputs": [],
   "source": [
    "x = vect.transform(['Jual peninggi badan, pelangsing, dan penambah berat badan. Menggunakan herbal yang baik untuk kesehatan. Yuk order!'])\n",
    "\n",
    "# Kode Anda"
   ]
  },
  {
   "cell_type": "markdown",
   "metadata": {},
   "source": [
    "### Soal 2.4.b (4 poin)\n",
    "\n",
    "Periksa label dari dokumen dengan nilai cosine similarity terbesar tersebut! Ini adalah sebuah klasifikasi sederhana dengan metode Nearest Neighbours. Apakah asumsi Anda terhadap label teks tersebut sama dengan label yang akan diberikan dengan melihat label tetangga terdekat tersebut?"
   ]
  },
  {
   "cell_type": "code",
   "execution_count": null,
   "metadata": {
    "collapsed": true,
    "jupyter": {
     "outputs_hidden": true
    }
   },
   "outputs": [],
   "source": [
    "# Kode Anda"
   ]
  },
  {
   "cell_type": "markdown",
   "metadata": {},
   "source": [
    "*Tulis penjelasan Anda di sini*"
   ]
  },
  {
   "cell_type": "markdown",
   "metadata": {},
   "source": [
    "### Soal 2.5 (6 poin)\n",
    "\n",
    "Mengapa kita menggunakan cosine similarity dalam kasus seperti ini (perbandingan dokumen) alih-alih menggunakan Euclidean distance?\n",
    "\n",
    "*Tulis jawaban Anda di sini*"
   ]
  },
  {
   "cell_type": "markdown",
   "metadata": {},
   "source": [
    "### Soal 2.6.a (2 poin)\n",
    "\n",
    "Gambarkan histogram untuk `n_char`!"
   ]
  },
  {
   "cell_type": "code",
   "execution_count": null,
   "metadata": {
    "collapsed": true,
    "jupyter": {
     "outputs_hidden": true
    }
   },
   "outputs": [],
   "source": [
    "# Kode Anda"
   ]
  },
  {
   "cell_type": "markdown",
   "metadata": {},
   "source": [
    "### Soal 2.6.b (3 poin)\n",
    "\n",
    "Gambarkan histogram untuk log(`n_char`) (jangan lupa untuk mengganti label pada sumbu x)! Apa yang terjadi dan mengapa kita melakukan hal ini?"
   ]
  },
  {
   "cell_type": "code",
   "execution_count": null,
   "metadata": {
    "collapsed": true,
    "jupyter": {
     "outputs_hidden": true
    }
   },
   "outputs": [],
   "source": [
    "# Kode Anda"
   ]
  },
  {
   "cell_type": "markdown",
   "metadata": {},
   "source": [
    "*Tulis pengamatan Anda di sini*"
   ]
  },
  {
   "cell_type": "markdown",
   "metadata": {},
   "source": [
    "### Soal 2.7 (8 poin)\n",
    "\n",
    "Cocokkan dua kurva distribusi Gaussian untuk masing-masing kelas berdasarkan log(`n_char`)! Berikan warna merah untuk spam dan warna hijau untuk ham. Jangan lupa untuk memberikan legenda untuk masing-masing kelas!"
   ]
  },
  {
   "cell_type": "code",
   "execution_count": null,
   "metadata": {
    "collapsed": true,
    "jupyter": {
     "outputs_hidden": true
    }
   },
   "outputs": [],
   "source": [
    "# Kode Anda"
   ]
  },
  {
   "cell_type": "markdown",
   "metadata": {},
   "source": [
    "### Soal 2.8 (7 poin)\n",
    "\n",
    "Berikan kesimpulan dari hal-hal yang telah Anda lakukan terhadap dataset ini! Anda diperkenankan melakukan eksplorasi tambahan jika dirasa perlu.\n",
    "\n",
    "*Tulis kesimpulan Anda di sini*"
   ]
  },
  {
   "cell_type": "markdown",
   "metadata": {},
   "source": [
    "### Soal 2.9 (5 poin)\n",
    "\n",
    "Anda diberikan kesempatan untuk memberikan visualisasi tambahan dengan menggunakan dataset yang diberikan. Anda bebas untuk memilih grafik apapun yang ingin Anda hasilkan. Semakin menarik observasi yang Anda gambarkan, semakin besar poin yang dapat diberikan untuk soal ini."
   ]
  },
  {
   "cell_type": "code",
   "execution_count": null,
   "metadata": {
    "collapsed": true,
    "jupyter": {
     "outputs_hidden": true
    }
   },
   "outputs": [],
   "source": [
    "# Kode Anda"
   ]
  }
 ],
 "metadata": {
  "kernelspec": {
   "display_name": "Python 3",
   "language": "python",
   "name": "python3"
  },
  "language_info": {
   "codemirror_mode": {
    "name": "ipython",
    "version": 3
   },
   "file_extension": ".py",
   "mimetype": "text/x-python",
   "name": "python",
   "nbconvert_exporter": "python",
   "pygments_lexer": "ipython3",
   "version": "3.6.7"
  }
 },
 "nbformat": 4,
 "nbformat_minor": 4
}
