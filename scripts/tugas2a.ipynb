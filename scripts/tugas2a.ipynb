{
 "cells": [
  {
   "cell_type": "markdown",
   "metadata": {},
   "source": [
    "# Data Mining\n",
    "\n",
    "## Tugas 2: Klasifikasi dengan Naive Bayes dan Decision Trees\n",
    "\n",
    "### Mekanisme\n",
    "\n",
    "Anda hanya diwajibkan untuk mengumpulkan file ini saja ke uploader yang disediakan di http://elearning2.uai.ac.id/. Ganti nama file ini saat pengumpulan menjadi **tugas2_NIM.ipynb**.\n",
    "\n",
    "**Keterlambatan**: Pengumpulan tugas yang melebihi tenggat yang telah ditentukan tidak akan diterima. Keterlambatan akan berakibat pada nilai nol untuk tugas ini.\n",
    "\n",
    "**Kolaborasi**: Anda diperbolehkan untuk berdiskusi dengan teman Anda, tetapi *dilarang keras* menyalin kode maupun tulisan dari teman Anda.\n",
    "\n",
    "### Petunjuk\n",
    "\n",
    "Terdapat enam *packages* yang Anda akan gunakan dalam mengerjakan tugas ini, yaitu:\n",
    "\n",
    "- matplotlib\n",
    "- numpy\n",
    "- pandas\n",
    "- scipy\n",
    "- seaborn\n",
    "- scikit-learn\n",
    "\n",
    "Anda diperbolehkan (jika dirasa perlu) untuk mengimpor modul tambahan untuk tugas ini, kecuali dijelaskan sebaliknya. Namun, seharusnya modul yang tersedia sudah cukup untuk memenuhi kebutuhan Anda.\n",
    "\n",
    "Pastikan jawaban Anda singkat, padat, dan jelas. Mayoritas pertanyaan yang diberikan dapat dijawab dalam 3-4 kalimat saja."
   ]
  },
  {
   "cell_type": "markdown",
   "metadata": {},
   "source": [
    "**NIM: **\n",
    "\n",
    "**Nilai akhir: XX/100**"
   ]
  },
  {
   "cell_type": "markdown",
   "metadata": {},
   "source": [
    "### Import"
   ]
  },
  {
   "cell_type": "code",
   "execution_count": null,
   "metadata": {
    "collapsed": true
   },
   "outputs": [],
   "source": [
    "from scipy.stats import norm, multivariate_normal\n",
    "import matplotlib.pyplot as plt\n",
    "import numpy as np\n",
    "import pandas as pd\n",
    "import seaborn as sns\n",
    "%matplotlib inline\n",
    "\n",
    "RANDOM_STATE = 1337"
   ]
  },
  {
   "cell_type": "code",
   "execution_count": null,
   "metadata": {
    "collapsed": true
   },
   "outputs": [],
   "source": [
    "# Membaca file\n",
    "train = pd.read_pickle('../dataset/train.p')\n",
    "val = pd.read_pickle('../dataset/val.p')\n",
    "test = pd.read_pickle('../dataset/test.p')"
   ]
  },
  {
   "cell_type": "markdown",
   "metadata": {},
   "source": [
    "### Deskripsi Dataset\n",
    "\n",
    "Tugas ini didasarkan pada tugas klasifikasi spam yang dilakukan dalam makalah oleh [Septiandri, Wibisono, dan Rachman (2016)](https://www.dropbox.com/s/0j71jsec57ckmgi/paper.pdf?dl=0). Spam dalam komentar Instagram didefinisikan sebagai komentar yang memiliki tujuan untuk mempromosikan sesuatu, baik itu produk maupun jasa, yang tidak berhubungan dengan pos aslinya; sedangkan ham adalah komentar yang bukan spam. Tugas kali ini lebih difokuskan pada eksplorasi data tersebut, bukan pada proses klasifikasinya.\n",
    "\n",
    "Ada dua kelompok fitur utama dalam dataset yang diberikan: fitur dasar dan pola kata kunci yang dikumpulkan sendiri. Beberapa contoh fitur dasarnya antara lain: jumlah token, jumlah emoji, dan jumlah huruf kapital. Sementara pola kata kunci yang didapat (menggunakan regex) antara lain:\n",
    "\n",
    "- `s(o|u|ou)venir`\n",
    "- `yu+k`\n",
    "- `free (delivery|ongkos|ongkir|pengiriman)|gratis|murah|promo|terjangkau`.\n",
    "\n",
    "Dataset ini juga menyimpan id dari pos yang diberikan komentar (`id_post`) dan user yang menghasilkan pos tersebut (`username_post`). Teks asli dari komentar tersebut juga terkandung dalam dataset ini agar dapat Anda eksplorasi dan coba beberapa jenis representasi yang diperlukan. Harapannya, eksplorasi Anda dapat menghasilkan hal baru yang belum tercakup dalam makalah tersebut."
   ]
  },
  {
   "cell_type": "markdown",
   "metadata": {},
   "source": [
    "### Prosedur Umum Eksperimen\n",
    "\n",
    "Anda akan diminta untuk melatih beberapa _classifiers_. Untuk itu, Anda dapat membuat modelnya menggunakan data `train`, lalu mengujikannya pada `val`. Data `test` hanya digunakan pada akhir eksperimen. Akan ada keterangan khusus bilamana Anda harus menggunakan data `test` tersebut."
   ]
  },
  {
   "cell_type": "markdown",
   "metadata": {},
   "source": [
    "## 1. Naive Bayes (40 poin)\n",
    "\n",
    "Anda diminta untuk mengimplementasikan dan menjelaskan beberapa konsep yang digunakan dalam algoritma Naive Bayes."
   ]
  },
  {
   "cell_type": "markdown",
   "metadata": {},
   "source": [
    "### Soal 1.1.a (2 poin)\n",
    "\n",
    "Buat dataframe baru yang terdiri dari dua kolom yang berisikan nilai `log()` dari `comments` dan `likes`. Pastikan bahwa nilai tersebut diambil dari `post_id` yang unik!"
   ]
  },
  {
   "cell_type": "code",
   "execution_count": null,
   "metadata": {},
   "outputs": [],
   "source": []
  },
  {
   "cell_type": "markdown",
   "metadata": {},
   "source": [
    "### Soal 1.1.b (3 poin)\n",
    "\n",
    "Hitung nilai _mean_ dari masing-masing kolom, lalu hitung pula _covariance matrix_-nya!"
   ]
  },
  {
   "cell_type": "code",
   "execution_count": null,
   "metadata": {
    "collapsed": true
   },
   "outputs": [],
   "source": []
  },
  {
   "cell_type": "markdown",
   "metadata": {},
   "source": [
    "### Soal 1.2.a (7 poin)\n",
    "\n",
    "Gambarkan _contour plot_ dari MLE untuk bivariate Gaussian dengan memanfaatkan nilai _mean_ dan _covariance matrix_ yang telah didapatkan dari soal 1.1.b! Pada bidang yang sama, gambarkan pula _scatter plot_-nya menggunakan data dari soal 1.1.a!"
   ]
  },
  {
   "cell_type": "code",
   "execution_count": null,
   "metadata": {},
   "outputs": [],
   "source": []
  },
  {
   "cell_type": "markdown",
   "metadata": {},
   "source": [
    "### Soal 1.2.b (3 poin)\n",
    "\n",
    "Dengan menggunakan _covariance matrix_, kita menggambarkan hubungan antara variabel `comments` dan `likes` melalui elemen $\\sigma_{ij}$ dan $\\sigma_{ji}$ dari\n",
    "$$\n",
    "\\Sigma = \\begin{pmatrix} \\Sigma_{ii} & \\Sigma_{ij} \\\\ \\Sigma_{ji} & \\Sigma_{jj} \\end{pmatrix} = \\begin{pmatrix} \\sigma^2_{i} & \\rho \\sigma_{i} \\sigma_{j} \\\\ \\rho \\sigma_{j} \\sigma_{i} & \\sigma^2_{j\n",
    "} \\end{pmatrix}\n",
    "$$ dengan $i =$ `comments` dan $j =$ `likes` (referensi: [Bivariate Normal Distribution](http://mathworld.wolfram.com/BivariateNormalDistribution.html)). Lalu, bagaimana asumsi Naive Bayes bekerja kaitannya dengan _covariance matrix_ ini?"
   ]
  },
  {
   "cell_type": "markdown",
   "metadata": {},
   "source": [
    "_Tulis jawaban Anda di sini_"
   ]
  },
  {
   "cell_type": "markdown",
   "metadata": {},
   "source": [
    "### Soal 1.2.c (2 poin)\n",
    "\n",
    "Apa akibatnya dengan _contour plot_ yang akan dihasilkan dengan asumsi Naive Bayes tersebut?"
   ]
  },
  {
   "cell_type": "markdown",
   "metadata": {},
   "source": [
    "_Tulis jawaban Anda di sini_"
   ]
  },
  {
   "cell_type": "markdown",
   "metadata": {},
   "source": [
    "### Soal 1.3.a (5 poin)\n",
    "\n",
    "Dengan menggunakan pustaka scikit-learn, latih model untuk klasifikasi spam dengan Gaussian Naive Bayes menggunakan fitur `n_char`, `n_capital`, `n_number`, `n_emoji`, dan `n_mention`! Tunjukan akurasi, precision, recall, dan F1-score dari _classifier_ tersebut dengan mengujikannya pada data validasi!"
   ]
  },
  {
   "cell_type": "code",
   "execution_count": null,
   "metadata": {},
   "outputs": [],
   "source": []
  },
  {
   "cell_type": "markdown",
   "metadata": {},
   "source": [
    "### Soal 1.3.b (2 poin)\n",
    "\n",
    "_Metrics_ mana yang akan lebih kita utamakan dari hasil soal 1.3.a? Mengapa kita menggunakan _metrics_ tersebut?"
   ]
  },
  {
   "cell_type": "markdown",
   "metadata": {},
   "source": [
    "_Tulis jawaban Anda di sini_"
   ]
  },
  {
   "cell_type": "markdown",
   "metadata": {},
   "source": [
    "### Soal 1.4 (6 poin)\n",
    "\n",
    "Latih ulang modelnya dengan menggunakan fitur `log_char`, `log_capital`, `log_number`, `log_emoji`, `log_mention` dan hitung akurasi, precision, recall, dan F1-score-nya pada data validasi. Perhatikan bahwa Anda harus melakukan _feature engineering_ untuk mendapatkan fitur-fitur tersebut. Apakah Anda menemukan hasil yang berbeda? Mengapa Anda mendapatkan hasil seperti itu?\n",
    "\n",
    "*Catatan: Transformasi dengan fungsi logaritma yang Anda lakukan mungkin harus dengan cara np.log(x+1) dengan x adalah nama atribut yang dimaksud. Mengapa harus ada +1?*"
   ]
  },
  {
   "cell_type": "code",
   "execution_count": null,
   "metadata": {},
   "outputs": [],
   "source": []
  },
  {
   "cell_type": "markdown",
   "metadata": {},
   "source": [
    "_Tulis jawaban Anda di sini_"
   ]
  },
  {
   "cell_type": "markdown",
   "metadata": {},
   "source": [
    "### Soal 1.5 (5 poin)\n",
    "\n",
    "Dengan menggunakan _classifier_ `BernoulliNB`, hitung precision, recall, dan F1-score dengan menggunakan semua fitur _keywords_, i.e. mengandung \"`has_pattern_`\" dalam nama fiturnya! Tunjukkan pula _confusion matrix_-nya!"
   ]
  },
  {
   "cell_type": "code",
   "execution_count": null,
   "metadata": {},
   "outputs": [],
   "source": []
  },
  {
   "cell_type": "markdown",
   "metadata": {},
   "source": [
    "### Soal 1.6 (5 poin)\n",
    "\n",
    "Berikan kesimpulan dari apa yang sudah Anda lakukan dalam tugas bagian 1 ini!"
   ]
  },
  {
   "cell_type": "markdown",
   "metadata": {},
   "source": [
    "_Tulis jawaban Anda di sini_"
   ]
  },
  {
   "cell_type": "markdown",
   "metadata": {},
   "source": [
    "## 2. Decision Trees (40 poin)"
   ]
  },
  {
   "cell_type": "markdown",
   "metadata": {},
   "source": [
    "### Soal 2.1 (6 poin)\n",
    "\n",
    "Dengan menggunakan modul numpy, buatlah fungsi untuk menghitung nilai (shannon) entropy!"
   ]
  },
  {
   "cell_type": "code",
   "execution_count": null,
   "metadata": {
    "collapsed": true
   },
   "outputs": [],
   "source": [
    "def entropy(array):\n",
    "    \"\"\"Menghitung nilai entropy dari array of labels\n",
    "    \n",
    "    e.g. [1, 0, 1, 0, 0, 0, 1] => float\n",
    "    \"\"\"\n",
    "    pass"
   ]
  },
  {
   "cell_type": "markdown",
   "metadata": {},
   "source": [
    "### Soal 2.2.a (4 poin)\n",
    "\n",
    "Dengan menggunakan fitur `log_` dan `has_pattern_`, lakukan klasifikasi dengan `DecisionTreeClassifier` menggunakan _hyperparameters_ bawaan. Laporkan nilai precision, recall, dan F1-score-nya!"
   ]
  },
  {
   "cell_type": "code",
   "execution_count": null,
   "metadata": {
    "collapsed": true
   },
   "outputs": [],
   "source": []
  },
  {
   "cell_type": "markdown",
   "metadata": {},
   "source": [
    "### Soal 2.2.b (2 poin)\n",
    "\n",
    "Apakah nilai akurasi atau F1-score dari _classifier_ yang dibentuk akan mencapai 100% jika diterapkan pada data latih?"
   ]
  },
  {
   "cell_type": "markdown",
   "metadata": {},
   "source": [
    "_Tulis jawaban Anda di sini_"
   ]
  },
  {
   "cell_type": "markdown",
   "metadata": {},
   "source": [
    "### Soal 2.3.a (7 poin)\n",
    "\n",
    "Ubah parameter (catatan: istilah \"parameter\" kadang digunakan untuk merujuk \"hyperparameter\") `max_depth` dari `DecisionTreeClassifier` menjadi 4 hingga 15 (i.e. 4, 5, ..., 14, 15). Untuk setiap nilai dari parameter tersebut, tunjukkan hasil F1-score pada data latih dan data validasinya dalam bentuk _line plot_!\n",
    "\n",
    "*Catatan: Jangan lupa untuk mengatur nilai parameter `random_state`, memberikan label pada tiap sumbu, dan menyertakan legendanya!*"
   ]
  },
  {
   "cell_type": "code",
   "execution_count": null,
   "metadata": {},
   "outputs": [],
   "source": []
  },
  {
   "cell_type": "markdown",
   "metadata": {},
   "source": [
    "### Soal 2.3.b (3 poin)\n",
    "\n",
    "Apa yang Anda lihat dalam grafik yang dihasilkan dalam soal 2.3.a? Mengapa kurvanya berbentuk seperti itu? Lalu, berapa nilai `max_depth` yang sebaiknya kita gunakan?"
   ]
  },
  {
   "cell_type": "markdown",
   "metadata": {},
   "source": [
    "*Tulis jawaban Anda di sini*"
   ]
  },
  {
   "cell_type": "markdown",
   "metadata": {},
   "source": [
    "### Soal 2.4 (3 poin)\n",
    "\n",
    "Cetak atribut `feature_importances_` dari model terbaik yang dihasilkan! Nilai apa yang ditunjukkan oleh atribut ini?"
   ]
  },
  {
   "cell_type": "code",
   "execution_count": null,
   "metadata": {
    "collapsed": true
   },
   "outputs": [],
   "source": []
  },
  {
   "cell_type": "markdown",
   "metadata": {},
   "source": [
    "_Tulis jawaban Anda di sini_"
   ]
  },
  {
   "cell_type": "markdown",
   "metadata": {},
   "source": [
    "### Soal 2.5.a (7 poin)\n",
    "\n",
    "Klasifikasikan data dengan menggunakan `RandomForestClassifier`! Dapatkah Anda menghasilkan model dengan kinerja yang lebih baik?\n",
    "\n",
    "*Catatan: Anda sangat mungkin memerlukan hyperparameter tuning!*"
   ]
  },
  {
   "cell_type": "code",
   "execution_count": null,
   "metadata": {
    "collapsed": true
   },
   "outputs": [],
   "source": []
  },
  {
   "cell_type": "markdown",
   "metadata": {},
   "source": [
    "### Soal 2.5.b (3 poin)\n",
    "\n",
    "Apa yang dimaksud dengan teknik _bagging_? Apa hubungannya dengan `RandomForestClassifier` yang digunakan dalam eksperimen ini?"
   ]
  },
  {
   "cell_type": "markdown",
   "metadata": {},
   "source": [
    "_Tulis jawaban Anda di sini_"
   ]
  },
  {
   "cell_type": "markdown",
   "metadata": {},
   "source": [
    "### Soal 2.6 (5 poin)\n",
    "\n",
    "Berikan kesimpulan dari apa yang sudah Anda lakukan dalam tugas bagian 2 ini! Anda diperkenankan melakukan eksplorasi tambahan jika dirasa perlu."
   ]
  },
  {
   "cell_type": "markdown",
   "metadata": {},
   "source": [
    "_Tulis jawaban Anda di sini_"
   ]
  },
  {
   "cell_type": "markdown",
   "metadata": {},
   "source": [
    "# 3. Evaluasi Model (20 poin)\n",
    "\n",
    "Pada bagian ini, Anda diminta untuk mengevaluasi model terbaik dari masing-masing algoritm yang telah Anda gunakan. Perbandingan pada bagian ini juga melibatkan ongkos yang kira-kira Anda perlukan untuk masing-masing jenis kesalahan."
   ]
  },
  {
   "cell_type": "markdown",
   "metadata": {},
   "source": [
    "### Soal 3.1 (15 poin)\n",
    "\n",
    "Latih ulang setiap model dengan _hyperparameters_ terbaik yang Anda dapatkan dari bagian 1 dan 2 tugas ini pada gabungan data latih dan data validasi. Lalu, buatlah ROC curve dari empat model yang Anda hasilkan dari masing-masing algoritma (GaussianNB, BernoulliNB, DecisionTreeClassifier, RandomForestClassifier) dari hasil prediksi pada data uji (`test`)! Sertakan juga plot untuk DummyClassifier dengan menggunakan probabilitas *prior*-nya!"
   ]
  },
  {
   "cell_type": "code",
   "execution_count": null,
   "metadata": {
    "collapsed": true
   },
   "outputs": [],
   "source": []
  },
  {
   "cell_type": "markdown",
   "metadata": {},
   "source": [
    "### Soal 3.2 (5 poin)\n",
    "\n",
    "Berdasarkan ROC curve tersebut, model mana yang kira-kira Anda akan pilih? Apa yang menjadi pertimbangan Anda saat menentukan ongkos dari masing-masing kesalahan?"
   ]
  },
  {
   "cell_type": "markdown",
   "metadata": {},
   "source": [
    "_Tulis jawaban Anda di sini_"
   ]
  }
 ],
 "metadata": {
  "kernelspec": {
   "display_name": "Python 3",
   "language": "python",
   "name": "python3"
  },
  "language_info": {
   "codemirror_mode": {
    "name": "ipython",
    "version": 3
   },
   "file_extension": ".py",
   "mimetype": "text/x-python",
   "name": "python",
   "nbconvert_exporter": "python",
   "pygments_lexer": "ipython3",
   "version": "3.6.2"
  }
 },
 "nbformat": 4,
 "nbformat_minor": 1
}
