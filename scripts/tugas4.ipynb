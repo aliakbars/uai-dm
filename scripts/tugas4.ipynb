{
 "cells": [
  {
   "cell_type": "markdown",
   "metadata": {},
   "source": [
    "# Data Mining\n",
    "\n",
    "## Tugas 4: Sistem Rekomendasi\n",
    "\n",
    "### Mekanisme\n",
    "\n",
    "Anda hanya diwajibkan untuk mengumpulkan file ini saja ke uploader yang disediakan di http://elearning2.uai.ac.id/. Ganti nama file ini saat pengumpulan menjadi **tugas4_NIM.ipynb**.\n",
    "\n",
    "**Keterlambatan**: Pengumpulan tugas yang melebihi tenggat yang telah ditentukan tidak akan diterima. Keterlambatan akan berakibat pada nilai nol untuk tugas ini.\n",
    "\n",
    "**Kolaborasi**: Anda diperbolehkan untuk berdiskusi dengan teman Anda, tetapi *dilarang keras* menyalin kode maupun tulisan dari teman Anda.\n",
    "\n",
    "### Petunjuk\n",
    "\n",
    "Terdapat enam *packages* yang Anda akan gunakan dalam mengerjakan tugas ini, yaitu:\n",
    "\n",
    "- matplotlib\n",
    "- numpy\n",
    "- pandas\n",
    "- scipy\n",
    "- seaborn\n",
    "- scikit-learn\n",
    "\n",
    "Anda diperbolehkan (jika dirasa perlu) untuk mengimpor modul tambahan untuk tugas ini, kecuali dijelaskan sebaliknya. Namun, seharusnya modul yang tersedia sudah cukup untuk memenuhi kebutuhan Anda.\n",
    "\n",
    "Pastikan jawaban Anda singkat, padat, dan jelas. Mayoritas pertanyaan yang diberikan dapat dijawab dalam 3-4 kalimat saja."
   ]
  },
  {
   "cell_type": "markdown",
   "metadata": {},
   "source": [
    "**NIM: **\n",
    "\n",
    "**Nilai akhir: XX/100**"
   ]
  },
  {
   "cell_type": "markdown",
   "metadata": {},
   "source": [
    "### Import"
   ]
  },
  {
   "cell_type": "code",
   "execution_count": null,
   "metadata": {
    "collapsed": true
   },
   "outputs": [],
   "source": [
    "import matplotlib.pyplot as plt\n",
    "import numpy as np\n",
    "import pandas as pd\n",
    "import seaborn as sns\n",
    "%matplotlib inline\n",
    "\n",
    "RANDOM_STATE = 538\n",
    "plt.style.use('fivethirtyeight')"
   ]
  },
  {
   "cell_type": "code",
   "execution_count": null,
   "metadata": {
    "collapsed": true
   },
   "outputs": [],
   "source": [
    "movies = pd.read_csv('../dataset/ml/movies.csv')\n",
    "ratings = pd.read_csv('../dataset/ml/ratings.csv')\n",
    "tags = pd.read_csv('../dataset/ml/tags.csv')"
   ]
  },
  {
   "cell_type": "markdown",
   "metadata": {},
   "source": [
    "### Deskripsi Dataset\n",
    "\n",
    "Dataset yang digunakan dalam tugas ini merupakan data nilai (*ratings*) film dari situs MovieLens. Dalam dataset ini, terdapat 100,000 *ratings* and 1,300 *tag* yang diaplikasikan pada 9,000 film dari 700 pengguna. Dataset ini merupakan versi lebih ringkas dari keseluruhan data yang bisa mencapai 20 juta *ratings*.\n",
    "\n",
    "*Rating* yang diberikan berskala 5-bintang, dengan kenaikan 0.5 bintang, i.e. 0.5, 1.0, 1.5, ..., 5.0 bintang.\n",
    "\n",
    "Untuk tugas ini, dataset yang digunakan telah dibagi menjadi dua: data latih dan data uji. Tugas Anda adalah menghasilkan *mean squared error* (MSE) serendah mungkin dengan masing-masing metode yang digunakan. Gunakan pengetahuan yang telah Anda dapatkan dari materi dan tugas-tugas sebelumnya.\n",
    "\n",
    "### Referensi\n",
    "\n",
    "F. Maxwell Harper and Joseph A. Konstan. 2015. The MovieLens Datasets: History and Context. ACM Transactions on Interactive Intelligent Systems (TiiS) 5, 4, Article 19 (December 2015), 19 pages. DOI=<http://dx.doi.org/10.1145/2827872>\n",
    "\n",
    "Sumber: https://grouplens.org/datasets/movielens/\n",
    "\n",
    "Beberapa konsep yang diterapkan dalam tugas ini dapat Anda lihat dalam buku Mining of Massive Datasets (Leskovec et al., 2014) pada Chapter 9."
   ]
  },
  {
   "cell_type": "markdown",
   "metadata": {},
   "source": [
    "## 1. Eksplorasi Dataset (25 poin)\n",
    "\n",
    "Pada bagian ini, Anda diminta untuk melihat berbagai hal menarik dalam dataset yang digunakan. Gunakan visualisasi, laporkan statistiknya, dan gunakan beberapa metode sederhana untuk mengetahui karakteristik dari dataset yang digunakan!"
   ]
  },
  {
   "cell_type": "code",
   "execution_count": null,
   "metadata": {},
   "outputs": [],
   "source": [
    "movies.head()"
   ]
  },
  {
   "cell_type": "code",
   "execution_count": null,
   "metadata": {
    "collapsed": true
   },
   "outputs": [],
   "source": [
    "import re\n",
    "\n",
    "# Mengekstraksi tahun dengan menggunakan regular expression\n",
    "movies['year'] = movies.title.apply(lambda x: re.findall('\\([0-9]{4}\\)', x)[0][1:5] if re.findall('\\([0-9]{4}\\)', x) else np.nan)"
   ]
  },
  {
   "cell_type": "markdown",
   "metadata": {},
   "source": [
    "### Soal 1.1.a (3 poin)\n",
    "\n",
    "Gunakan `MultiLabelBinarizer` untuk menghasilkan matriks berisi masing-masing *genre*.\n",
    "\n",
    "*Petunjuk: Anda dapat mengolah string dalam `genres` dengan memisahkannya berdasarkan `|`, lalu mengaplikasikan `MultiLabelBinarizer`.*"
   ]
  },
  {
   "cell_type": "code",
   "execution_count": null,
   "metadata": {
    "collapsed": true
   },
   "outputs": [],
   "source": [
    "from sklearn.preprocessing import MultiLabelBinarizer\n",
    "\n",
    "# Kode Anda di sini"
   ]
  },
  {
   "cell_type": "markdown",
   "metadata": {},
   "source": [
    "### Soal 1.1.b (2 poin)\n",
    "\n",
    "Ubah matriks tersebut ke dalam `DataFrame`, lalu gabungkan dengan variabel `movies` dan simpan sebagai `movies` kembali."
   ]
  },
  {
   "cell_type": "code",
   "execution_count": null,
   "metadata": {
    "collapsed": true
   },
   "outputs": [],
   "source": [
    "# Kode Anda di sini"
   ]
  },
  {
   "cell_type": "markdown",
   "metadata": {},
   "source": [
    "### Soal 1.2 (2 poin)\n",
    "\n",
    "Gambarkan bar plot yang menunjukkan jumlah film untuk tiap *genre*."
   ]
  },
  {
   "cell_type": "code",
   "execution_count": null,
   "metadata": {},
   "outputs": [],
   "source": [
    "# Kode Anda di sini"
   ]
  },
  {
   "cell_type": "markdown",
   "metadata": {},
   "source": [
    "### Soal 1.3.a (2 poin)\n",
    "\n",
    "Periksa apakah ada film yang tidak mempunyai nilai tahun (`year = null`). Jika ada, buang dari dataset `movies`. Buang juga `ratings` yang mengandung `movieId` yang dibuang tersebut."
   ]
  },
  {
   "cell_type": "code",
   "execution_count": null,
   "metadata": {
    "collapsed": true
   },
   "outputs": [],
   "source": [
    "# Kode Anda di sini"
   ]
  },
  {
   "cell_type": "markdown",
   "metadata": {},
   "source": [
    "### Soal 1.3.b (2 poin)\n",
    "\n",
    "Gambarkan histogram yang menunjukkan frekuensi film per tahun."
   ]
  },
  {
   "cell_type": "code",
   "execution_count": null,
   "metadata": {
    "scrolled": false
   },
   "outputs": [],
   "source": [
    "# Kode Anda di sini"
   ]
  },
  {
   "cell_type": "markdown",
   "metadata": {},
   "source": [
    "### Soal 1.4 (3 poin)\n",
    "\n",
    "Gambarkan *line plot* yang menunjukkan tren tiap *genre* per tahunnya. Ini dapat ditunjukkan dengan menggambarkan jumlah film dengan *genre* tersebut untuk tiap tahun.\n",
    "\n",
    "*Petunjuk: Anda mungkin perlu mengubah ukuran gambarnya karena akan ada banyak sekali garis (i.e. sejumlah genre) dalam plot tersebut.*"
   ]
  },
  {
   "cell_type": "code",
   "execution_count": null,
   "metadata": {},
   "outputs": [],
   "source": [
    "# Kode Anda di sini"
   ]
  },
  {
   "cell_type": "markdown",
   "metadata": {},
   "source": [
    "### Soal 1.5.a (2 poin)\n",
    "\n",
    "Sekarang, kita ingin melihat perilaku pengguna dalam memberikan nilai untuk film. Pertama, ubahlah `timestamp` pada `ratings` menjadi format standar.\n",
    "\n",
    "*Petunjuk: Anda mungkin perlu mengecek kembali apakah waktu yang dihasilkan sudah masuk akal atau belum.*\n",
    "\n",
    "*Sanity check: Tahunnya seharusnya menunjukkan antara 1995-2015*"
   ]
  },
  {
   "cell_type": "code",
   "execution_count": null,
   "metadata": {
    "collapsed": true
   },
   "outputs": [],
   "source": [
    "# Kode Anda di sini"
   ]
  },
  {
   "cell_type": "markdown",
   "metadata": {},
   "source": [
    "### Soal 1.5.b (2 poin)\n",
    "\n",
    "Gambarkan histogram yang menunjukkan frekuensi rating yang diberikan per tahun."
   ]
  },
  {
   "cell_type": "code",
   "execution_count": null,
   "metadata": {},
   "outputs": [],
   "source": [
    "# Kode Anda di sini"
   ]
  },
  {
   "cell_type": "markdown",
   "metadata": {},
   "source": [
    "### Soal 1.6 (2 poin)\n",
    "\n",
    "Gambarkan histogram yang menunjukkan frekuensi bintang (`rating`) yang diberikan."
   ]
  },
  {
   "cell_type": "code",
   "execution_count": null,
   "metadata": {
    "scrolled": true
   },
   "outputs": [],
   "source": [
    "# Kode Anda di sini"
   ]
  },
  {
   "cell_type": "markdown",
   "metadata": {},
   "source": [
    "### Soal 1.7 (5 poin)\n",
    "\n",
    "Apa yang dapat Anda simpulkan dari hasil eksplorasi sejauh ini?"
   ]
  },
  {
   "cell_type": "markdown",
   "metadata": {},
   "source": [
    "_Jawaban Anda di sini_"
   ]
  },
  {
   "cell_type": "markdown",
   "metadata": {},
   "source": [
    "## 2. Prediksi Sederhana (25 poin)\n",
    "\n",
    "Anda diminta untuk membuat prediksi *rating* dengan menggunakan beberapa metode sederhana, yaitu dengan pencarian rata-rata dan regresi."
   ]
  },
  {
   "cell_type": "markdown",
   "metadata": {},
   "source": [
    "### Soal 2.1.a (2 poin)\n",
    "\n",
    "Bagi data `ratings` menjadi dua variabel: `train` dan `test`. Pastikan bahwa Anda melakukan pengacakan urutan data sebelum membaginya dan proporsi data `train`:`test` adalah 70:30.\n",
    "\n",
    "*Catatan: Hanya dua variabel yang perlu dihasilkan, bukan `X_train`, `X_test`, `y_train`, `y_test` seperti di tugas-tugas sebelumnya.*"
   ]
  },
  {
   "cell_type": "code",
   "execution_count": null,
   "metadata": {
    "collapsed": true
   },
   "outputs": [],
   "source": [
    "# Kode Anda di sini"
   ]
  },
  {
   "cell_type": "markdown",
   "metadata": {},
   "source": [
    "### Soal 2.1.b (3 poin)\n",
    "\n",
    "Buang semua data dalam `test` yang `movieId`-nya tidak ada dalam `train`. Mengapa kita melakukan hal ini?"
   ]
  },
  {
   "cell_type": "code",
   "execution_count": null,
   "metadata": {
    "collapsed": true
   },
   "outputs": [],
   "source": [
    "# Kode Anda di sini"
   ]
  },
  {
   "cell_type": "markdown",
   "metadata": {},
   "source": [
    "_Jawaban Anda di sini_"
   ]
  },
  {
   "cell_type": "markdown",
   "metadata": {},
   "source": [
    "### Soal 2.2.a (3 poin)\n",
    "\n",
    "Salah satu asumsi paling mendasar adalah kita dapat menggunakan rata-rata bintang yang diberikan oleh seorang pengguna untuk menebak jumlah bintang yang akan diberikan untuk film berikutnya yang dia tonton. Oleh karena itu, cari nilai rata-rata untuk *rating* berdasarkan `userId` dalam `train`. Lalu, gunakan nilai rata-rata tersebut untuk memprediksi *rating* yang akan diberikan oleh pengguna tersebut pada film-film yang akan ditontonnya pada `test`. Laporkan nilai MSE-nya."
   ]
  },
  {
   "cell_type": "code",
   "execution_count": null,
   "metadata": {},
   "outputs": [],
   "source": [
    "from sklearn.metrics import mean_squared_error\n",
    "\n",
    "# Kode Anda di sini"
   ]
  },
  {
   "cell_type": "markdown",
   "metadata": {},
   "source": [
    "### Soal 2.2.b (3 poin)\n",
    "\n",
    "Asumsi lain yang dapat digunakan adalah: seorang pengguna akan memberikan bintang kepada suatu film seperti halnya orang-orang lain akan memberikannya pada film tersebut. Jadi, lakukan hal yang sama seperti pada soal 2.1.a, tetapi ambil nilai rata-rata dengan pengelompokan berdasarkan `movieId`. Laporkan nilai MSE-nya."
   ]
  },
  {
   "cell_type": "code",
   "execution_count": null,
   "metadata": {},
   "outputs": [],
   "source": [
    "# Kode Anda di sini"
   ]
  },
  {
   "cell_type": "markdown",
   "metadata": {},
   "source": [
    "### Soal 2.3.a (3 poin)\n",
    "\n",
    "Salah satu cara lain untuk memberikan sistem rekomendasi adalah dengan melakukan klasifikasi atau regresi. Dengan membuat model untuk tiap pengguna, maka Anda dapat memprediksi nilai dengan melakukan klasifikasi atau regresi untuk film baru yang akan ditonton oleh pengguna tersebut.\n",
    "\n",
    "Gabungkan (merge) `train` dan `movies` terlebih dahulu. Pastikan penggabungan digunakan secara `left join` dengan `train` sebagai tabel di sebelah kiri. Lalu, buatlah model regresi linear untuk tiap pengguna dan simpan model-model tersebut dalam *dictionary* dengan kunci `userId`. Gunakan *genre* sebagai fitur regresi linear tersebut.\n",
    "\n",
    "*Petunjuk: Gunakan `.groupby()` untuk mendapatkan kelompok data berdasarkan `userId`, lalu gunakan for-loop untuk mengiterasi setiap group tersebut.*"
   ]
  },
  {
   "cell_type": "code",
   "execution_count": null,
   "metadata": {
    "collapsed": true
   },
   "outputs": [],
   "source": [
    "from sklearn.linear_model import LinearRegression\n",
    "\n",
    "# Kode Anda di sini"
   ]
  },
  {
   "cell_type": "markdown",
   "metadata": {},
   "source": [
    "### Soal 2.3.b (3 poin)\n",
    "\n",
    "Prediksi data `test` dengan menggunakan model yang telah dihasilkan pada soal 2.2.a. Lalu, laporkan MSE yang didapatkan.\n",
    "\n",
    "*Petunjuk: Anda bisa menggunakan for-loop untuk group seperti pada soal sebelumnya **atau** Anda dapat memprediksi per satu kasus.*"
   ]
  },
  {
   "cell_type": "code",
   "execution_count": null,
   "metadata": {},
   "outputs": [],
   "source": [
    "# Kode Anda di sini"
   ]
  },
  {
   "cell_type": "markdown",
   "metadata": {},
   "source": [
    "### Soal 2.4 (3 poin)\n",
    "\n",
    "Mengapa dalam kasus regresi atau klasifikasi untuk prediksi *rating* kita tidak menggunakan `movieId` atau `userId` sebagai fitur? Apa yang terjadi kalau kita menggunakan kedua atribut tersebut sebagai fitur?"
   ]
  },
  {
   "cell_type": "markdown",
   "metadata": {},
   "source": [
    "_Jawaban Anda di sini_"
   ]
  },
  {
   "cell_type": "markdown",
   "metadata": {},
   "source": [
    "### Soal 2.5 (5 poin)\n",
    "\n",
    "Apa yang dapat Anda simpulkan dari hasil eksplorasi sejauh ini?"
   ]
  },
  {
   "cell_type": "markdown",
   "metadata": {},
   "source": [
    "_Jawaban Anda di sini_"
   ]
  },
  {
   "cell_type": "markdown",
   "metadata": {},
   "source": [
    "## 3. Collaborative Filtering (30 poin)\n",
    "\n",
    "Sebagai perbandingan, Anda akan membuat prediksi nilai dengan menggunakan metode *collaborative filtering*.\n",
    "\n",
    "**Perhatian: Berhati-hatilah dengan bagian ini karena ada banyak manipulasi matriks yang mungkin diperlukan. Selalu lakukan *sanity check*. *Do not procrastinate*.**"
   ]
  },
  {
   "cell_type": "markdown",
   "metadata": {},
   "source": [
    "### Soal 3.1 (2 poin)\n",
    "\n",
    "Buat `X_train` dari hasil pivot `train` dengan menjadikan `userId` sebagai index, `movieId` sebagai kolom, dan `rating` menjadi nilai dari *cell*.\n",
    "\n",
    "*Sanity check: Perintah ini seharusnya menghasilkan sparse matrix.*"
   ]
  },
  {
   "cell_type": "code",
   "execution_count": null,
   "metadata": {
    "collapsed": true
   },
   "outputs": [],
   "source": [
    "# Kode Anda di sini"
   ]
  },
  {
   "cell_type": "markdown",
   "metadata": {},
   "source": [
    "### Soal 3.2.a (2 poin)\n",
    "\n",
    "Prediksi dengan *collaborative filtering* berdasarkan pengguna dapat dilakukan dengan menghitung *cosine similarity*. Nilai *similarity* tersebut kemudian akan dijadikan bobot untuk tiap nilai yang akan dihasilkan alih-alih menggunakan k-rekomendasi terbaik.\n",
    "\n",
    "Hitung nilai *cosine similarity* dari `X_train` dengan menggunakan fungsi dari `scikit-learn`. Lalu, simpanlah nilai *cosine similarity* tersebut.\n",
    "\n",
    "*Cosine similarity* didefinisikan sebagai\n",
    "$$\n",
    "sim(u, u^{\\prime}) = \\cos(\\theta) = \\frac{\\mathbf{r}_u \\cdot \\mathbf{r}_{u^{\\prime}}}{\\|\\mathbf{r}_u\\| \\|\\mathbf{r}_{u^{\\prime}}\\|}\n",
    "$$\n",
    "dengan $u$ adalah pengguna dan $r_u$ adalah nilai yang diberikan oleh pengguna $u$ dalam bentuk vektor.\n",
    "\n",
    "*Sanity check: Untuk similarity berdasarkan pengguna, pastikan matriks yang dihasilkan berukuran $U \\times U$ dengan $U$ adalah jumlah pengguna dalam data.*"
   ]
  },
  {
   "cell_type": "code",
   "execution_count": null,
   "metadata": {
    "collapsed": true
   },
   "outputs": [],
   "source": [
    "from sklearn.metrics.pairwise import cosine_similarity\n",
    "\n",
    "# Kode Anda di sini"
   ]
  },
  {
   "cell_type": "markdown",
   "metadata": {},
   "source": [
    "### Soal 3.2.b (3 poin)\n",
    "\n",
    "Munculkan nilai minimum, maksimum, dan rata-rata dari seluruh *cosine similarity* yang dihasilkan."
   ]
  },
  {
   "cell_type": "code",
   "execution_count": null,
   "metadata": {},
   "outputs": [],
   "source": [
    "# Kode Anda di sini"
   ]
  },
  {
   "cell_type": "markdown",
   "metadata": {},
   "source": [
    "### Soal 3.3 (3 poin)\n",
    "\n",
    "Hasil prediksi untuk film yang belum ditonton yang kita simpan pada `test` dapat dihitung dengan\n",
    "\n",
    "$$\n",
    "\\hat{r}_{ui} = \\sum_{u^{\\prime}} sim(u,u^{\\prime}) r_{u^{\\prime} i}\n",
    "$$\n",
    "\n",
    "Namun, nilai ini masih perlu dinormalisasi lagi (mengapa?). Hasil prediksi dengan normalisasi menjadi\n",
    "\n",
    "$$\n",
    "\\hat{r}_{ui} = \\frac{\\sum_{u^{\\prime}} sim(u,u^{\\prime}) r_{u^{\\prime} i}}{\\sum_{u^{\\prime}} |sim(u,u^{\\prime})|}\n",
    "$$\n",
    "\n",
    "Dengan menggunakan referensi [ini](http://blog.ethanrosenthal.com/2015/11/02/intro-to-collaborative-filtering/), coba hasilkan prediksi berdasarkan *similarity* dan `X_train` yang telah dibentuk di soal sebelumnya. Lalu, simpan hasilnya ke menjadi `DataFrame` sebagai variabel `X_pred`. Jangan lupa untuk mengisi parameter `index` dengan `X_train.index` dan `columns` dengan `X_train.columns`."
   ]
  },
  {
   "cell_type": "code",
   "execution_count": null,
   "metadata": {
    "collapsed": true,
    "scrolled": true
   },
   "outputs": [],
   "source": [
    "# Kode Anda di sini"
   ]
  },
  {
   "cell_type": "markdown",
   "metadata": {},
   "source": [
    "### Soal 3.4.a (3 poin)\n",
    "\n",
    "Prediksi nilai di data `test` dari `X_pred` yang telah dihasilkan. Laporkan MSE-nya.\n",
    "\n",
    "*Petunjuk: Anda dapat memanfaatkan `test.apply()` lalu menerapkan fungsi lambda yang mengambil prediksi untuk `userId` dan `movieId` tertentu dalam `X_pred`. Pastikan bahwa Anda mengambil rating yang benar dari matriks tersebut.*"
   ]
  },
  {
   "cell_type": "code",
   "execution_count": null,
   "metadata": {},
   "outputs": [],
   "source": [
    "# Kode Anda di sini"
   ]
  },
  {
   "cell_type": "markdown",
   "metadata": {},
   "source": [
    "### Soal 3.4.b (4 poin)\n",
    "\n",
    "Bandingkan MSE tersebut dengan hasil pada bagian 2. Apa yang dapat Anda lihat? Apa yang menyebabkan hasilnya seperti itu dibandingkan dengan metode yang telah dicobakan sebelumnya?\n",
    "\n",
    "*Petunjuk: Anda mungkin perlu melihat isi matriks `X_pred`.*"
   ]
  },
  {
   "cell_type": "markdown",
   "metadata": {},
   "source": [
    "_Jawaban Anda di sini_"
   ]
  },
  {
   "cell_type": "markdown",
   "metadata": {},
   "source": [
    "### Soal 3.5 (2 poin)\n",
    "\n",
    "Salah satu cara untuk memperbaiki hasilnya adalah dengan melakukan normalisasi bintang dengan mengurangi nilai bintang untuk film $i$ oleh pengguna $u$ dengan rata-rata bintang yang diberikan oleh pengguna $u$.\n",
    "\n",
    "Terapkan proses normalisasi ini pada `X_train`, lalu simpan sebagai `X_normal`. Isi nilai kosong pada `X_normal` dengan 0.\n",
    "\n",
    "*Petunjuk: Lihat kembali salindia kuliah sistem rekomendasi. Anda mungkin perlu melakukan matrix transpose beberapa kali karena bawaan operasi pada Pandas yang agak berbeda dengan NumPy.*"
   ]
  },
  {
   "cell_type": "code",
   "execution_count": null,
   "metadata": {
    "collapsed": true
   },
   "outputs": [],
   "source": [
    "# Kode Anda di sini"
   ]
  },
  {
   "cell_type": "markdown",
   "metadata": {},
   "source": [
    "### Soal 3.6 (4 poin)\n",
    "\n",
    "Hitung nilai *cosine similarity* dari `X_normal`, lalu tampilkan nilai minimum, maksimum, dan rata-rata dari *similarity* yang dihasilkan."
   ]
  },
  {
   "cell_type": "code",
   "execution_count": null,
   "metadata": {
    "scrolled": true
   },
   "outputs": [],
   "source": [
    "# Kode Anda di sini"
   ]
  },
  {
   "cell_type": "markdown",
   "metadata": {},
   "source": [
    "### Soal 3.7 (3 poin)\n",
    "\n",
    "Prediksi kembali *rating* yang diberikan pada data `test`. Hitung nilai MSE-nya. Apakah hasilnya kali ini lebih baik?"
   ]
  },
  {
   "cell_type": "code",
   "execution_count": null,
   "metadata": {},
   "outputs": [],
   "source": [
    "# Kode Anda di sini"
   ]
  },
  {
   "cell_type": "markdown",
   "metadata": {},
   "source": [
    "### Soal 3.8 (4 poin)\n",
    "\n",
    "Berikan kesimpulan yang dapat Anda ambil untuk sistem rekomendasi dengan menggunakan *collaborative filtering* ini."
   ]
  },
  {
   "cell_type": "markdown",
   "metadata": {},
   "source": [
    "_Jawaban Anda di sini_"
   ]
  },
  {
   "cell_type": "markdown",
   "metadata": {},
   "source": [
    "## 4. UV-Decomposition (20 poin)\n",
    "\n",
    "Metode lain yang dapat digunakan untuk melakukan prediksi adalah dengan menggunakan proses faktorisasi matriks. Dalam bagian ini, Anda akan melakukan UV-decomposition dengan *routine* yang telah disediakan oleh scikit-learn."
   ]
  },
  {
   "cell_type": "markdown",
   "metadata": {},
   "source": [
    "### Soal 4.1.a (2 poin)\n",
    "\n",
    "Dengan menggunakan modul `NMF` untuk *non-negative matrix factorization* dengan `n_components=2`. Transformasi `X_train` dengan terlebih dahulu mengisi nilai kosong dengan 0, lalu simpan sebagai `X_transformed`."
   ]
  },
  {
   "cell_type": "code",
   "execution_count": null,
   "metadata": {
    "collapsed": true
   },
   "outputs": [],
   "source": [
    "from sklearn.decomposition import NMF\n",
    "\n",
    "# Kode Anda di sini"
   ]
  },
  {
   "cell_type": "markdown",
   "metadata": {},
   "source": [
    "### Soal 4.1.b (2 poin)\n",
    "\n",
    "Ide dari UV-decomposition adalah menghasilkan matriks $U$ dan $V$ yang dimensinya jauh lebih kecil dibandingkan $X$. Dari matriks $U$ dan $V$ tersebut, kita akan melakukan inversi dari hasil transformasi untuk mendapatkan aproksimasi untuk nilai yang kosong.\n",
    "\n",
    "Lakukan transformasi dan inversnya, kemudian simpan matriks ini sebagai `X_pred`. Jangan lupa untuk mengisi nilai `index` dan `columns` dari `DataFrame` yang dibentuk dengan `X_pred`."
   ]
  },
  {
   "cell_type": "code",
   "execution_count": null,
   "metadata": {
    "collapsed": true
   },
   "outputs": [],
   "source": [
    "# Kode Anda di sini"
   ]
  },
  {
   "cell_type": "markdown",
   "metadata": {},
   "source": [
    "### Soal 4.1.c (2 poin)\n",
    "\n",
    "Gunakan matriks `X_pred` untuk memprediksi *rating* pada data `test`. Lalu, laporkan MSE-nya."
   ]
  },
  {
   "cell_type": "code",
   "execution_count": null,
   "metadata": {},
   "outputs": [],
   "source": [
    "# Kode Anda di sini"
   ]
  },
  {
   "cell_type": "markdown",
   "metadata": {},
   "source": [
    "### Soal 4.1.d (2 poin)\n",
    "\n",
    "Apakah MSE yang dihasilkan cukup bagus? Kita dapat mengonfirmasi ini dengan melihat nilai error pada aproksimasi yang dihasilkan. Cetak nilai ini dengan menggunakan `.reconstruction_err_`. Apa yang dapat Anda simpulkan dari nilai error ini?"
   ]
  },
  {
   "cell_type": "code",
   "execution_count": null,
   "metadata": {},
   "outputs": [],
   "source": [
    "# Kode Anda di sini"
   ]
  },
  {
   "cell_type": "markdown",
   "metadata": {},
   "source": [
    "_Jawaban Anda di sini_"
   ]
  },
  {
   "cell_type": "markdown",
   "metadata": {},
   "source": [
    "### Soal 4.2.a (4 poin)\n",
    "\n",
    "Coba hasilkan faktorisasi matriks dengan menggunakan jumlah komponen `n = [2, 5, 10, 25, 50, 100]`, lalu laporkan *reconstruction error*-nya dalam bentuk *line plot*."
   ]
  },
  {
   "cell_type": "code",
   "execution_count": null,
   "metadata": {},
   "outputs": [],
   "source": [
    "# Kode Anda di sini"
   ]
  },
  {
   "cell_type": "markdown",
   "metadata": {},
   "source": [
    "### Soal 4.2.b (3 poin)\n",
    "\n",
    "Anda akan melihat bahwa tren error rekonstruksinya selalu menurun seiring dengan bertambahnya jumlah komponen. Apakah dengan menggunakan $n = u$ errornya bisa mendekati nol? Jika bisa, apakah hasil prediksi untuk data `test` akan menjadi lebih baik, lalu apa yang menjadi masalahnya? Jika tidak, jelaskan mengapa hal tersebut tidak mungkin.\n",
    "\n",
    "*Petunjuk: Anda mungkin bisa melihat perubahan hasil prediksi ketika $n$ ditambah.*"
   ]
  },
  {
   "cell_type": "markdown",
   "metadata": {},
   "source": [
    "_Jawaban Anda di sini_"
   ]
  },
  {
   "cell_type": "markdown",
   "metadata": {},
   "source": [
    "### Soal 4.3 (2 poin)\n",
    "\n",
    "Apa yang mungkin perlu dilakukan agar hasil prediksi menggunakan UV-decomposition ini bisa lebih baik?\n",
    "\n",
    "*Petunjuk: Anda bisa menggunakan referensi buku Mining of Massive Datasets (Leskovec et al., 2014) pada Section 9.4.*"
   ]
  },
  {
   "cell_type": "markdown",
   "metadata": {},
   "source": [
    "_Jawaban Anda di sini_"
   ]
  },
  {
   "cell_type": "markdown",
   "metadata": {},
   "source": [
    "### Soal 4.4 (3 poin)\n",
    "\n",
    "Berikan kesimpulan Anda terkait sistem rekomendasi dengan menggunakan UV-decomposition ini."
   ]
  },
  {
   "cell_type": "markdown",
   "metadata": {},
   "source": [
    "_Jawaban Anda di sini_"
   ]
  }
 ],
 "metadata": {
  "kernelspec": {
   "display_name": "Python 2",
   "language": "python",
   "name": "python2"
  },
  "language_info": {
   "codemirror_mode": {
    "name": "ipython",
    "version": 2
   },
   "file_extension": ".py",
   "mimetype": "text/x-python",
   "name": "python",
   "nbconvert_exporter": "python",
   "pygments_lexer": "ipython2",
   "version": "2.7.12"
  }
 },
 "nbformat": 4,
 "nbformat_minor": 1
}
